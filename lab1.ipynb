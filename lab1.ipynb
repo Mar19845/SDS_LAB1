{
 "cells": [
  {
   "cell_type": "markdown",
   "id": "bef99d29-8cb3-429a-a782-4a925bd37da5",
   "metadata": {},
   "source": [
    "## Universidad del Valle de Guatemala\n",
    "### Security Data Science\n",
    "* Juan Marroquin 19845\n",
    "* Carlos Raxtum 19721\n",
    "\n",
    "\n",
    "##### Import Libraries"
   ]
  },
  {
   "cell_type": "code",
   "execution_count": 5,
   "id": "0ccfb896-7e51-43ba-af9b-8268116342af",
   "metadata": {},
   "outputs": [
    {
     "ename": "ModuleNotFoundError",
     "evalue": "No module named 'six.moves.collections_abc'",
     "output_type": "error",
     "traceback": [
      "\u001b[1;31m---------------------------------------------------------------------------\u001b[0m",
      "\u001b[1;31mModuleNotFoundError\u001b[0m                       Traceback (most recent call last)",
      "Cell \u001b[1;32mIn [5], line 9\u001b[0m\n\u001b[0;32m      7\u001b[0m \u001b[38;5;28;01mimport\u001b[39;00m \u001b[38;5;21;01mnumpy\u001b[39;00m \u001b[38;5;28;01mas\u001b[39;00m \u001b[38;5;21;01mnp\u001b[39;00m\n\u001b[0;32m      8\u001b[0m \u001b[38;5;28;01mimport\u001b[39;00m \u001b[38;5;21;01mre\u001b[39;00m\n\u001b[1;32m----> 9\u001b[0m \u001b[38;5;28;01mimport\u001b[39;00m \u001b[38;5;21;01mpandas_profiling\u001b[39;00m\n\u001b[0;32m     10\u001b[0m get_ipython()\u001b[38;5;241m.\u001b[39mrun_line_magic(\u001b[38;5;124m'\u001b[39m\u001b[38;5;124mmatplotlib\u001b[39m\u001b[38;5;124m'\u001b[39m, \u001b[38;5;124m'\u001b[39m\u001b[38;5;124minline\u001b[39m\u001b[38;5;124m'\u001b[39m)\n",
      "File \u001b[1;32m~\\AppData\\Roaming\\Python\\Python39\\site-packages\\pandas_profiling\\__init__.py:11\u001b[0m\n\u001b[0;32m      8\u001b[0m \u001b[38;5;28;01mfrom\u001b[39;00m \u001b[38;5;21;01mpandas_profiling\u001b[39;00m\u001b[38;5;21;01m.\u001b[39;00m\u001b[38;5;21;01mversion\u001b[39;00m \u001b[38;5;28;01mimport\u001b[39;00m __version__\n\u001b[0;32m     10\u001b[0m \u001b[38;5;66;03m# backend\u001b[39;00m\n\u001b[1;32m---> 11\u001b[0m \u001b[38;5;28;01mimport\u001b[39;00m \u001b[38;5;21;01mpandas_profiling\u001b[39;00m\u001b[38;5;21;01m.\u001b[39;00m\u001b[38;5;21;01mmodel\u001b[39;00m\u001b[38;5;21;01m.\u001b[39;00m\u001b[38;5;21;01mpandas\u001b[39;00m  \u001b[38;5;66;03m# isort:skip  # noqa\u001b[39;00m\n\u001b[0;32m     14\u001b[0m __all__ \u001b[38;5;241m=\u001b[39m [\n\u001b[0;32m     15\u001b[0m     \u001b[38;5;124m\"\u001b[39m\u001b[38;5;124mpandas_decorator\u001b[39m\u001b[38;5;124m\"\u001b[39m,\n\u001b[0;32m     16\u001b[0m     \u001b[38;5;124m\"\u001b[39m\u001b[38;5;124mProfileReport\u001b[39m\u001b[38;5;124m\"\u001b[39m,\n\u001b[0;32m     17\u001b[0m     \u001b[38;5;124m\"\u001b[39m\u001b[38;5;124m__version__\u001b[39m\u001b[38;5;124m\"\u001b[39m,\n\u001b[0;32m     18\u001b[0m ]\n",
      "File \u001b[1;32m~\\AppData\\Roaming\\Python\\Python39\\site-packages\\pandas_profiling\\model\\pandas\\__init__.py:1\u001b[0m\n\u001b[1;32m----> 1\u001b[0m \u001b[38;5;28;01mfrom\u001b[39;00m \u001b[38;5;21;01mpandas_profiling\u001b[39;00m\u001b[38;5;21;01m.\u001b[39;00m\u001b[38;5;21;01mmodel\u001b[39;00m\u001b[38;5;21;01m.\u001b[39;00m\u001b[38;5;21;01mpandas\u001b[39;00m \u001b[38;5;28;01mimport\u001b[39;00m (\n\u001b[0;32m      2\u001b[0m     correlations_pandas,\n\u001b[0;32m      3\u001b[0m     dataframe_pandas,\n\u001b[0;32m      4\u001b[0m     describe_boolean_pandas,\n\u001b[0;32m      5\u001b[0m     describe_categorical_pandas,\n\u001b[0;32m      6\u001b[0m     describe_counts_pandas,\n\u001b[0;32m      7\u001b[0m     describe_date_pandas,\n\u001b[0;32m      8\u001b[0m     describe_file_pandas,\n\u001b[0;32m      9\u001b[0m     describe_generic_pandas,\n\u001b[0;32m     10\u001b[0m     describe_image_pandas,\n\u001b[0;32m     11\u001b[0m     describe_numeric_pandas,\n\u001b[0;32m     12\u001b[0m     describe_path_pandas,\n\u001b[0;32m     13\u001b[0m     describe_supported_pandas,\n\u001b[0;32m     14\u001b[0m     describe_timeseries_pandas,\n\u001b[0;32m     15\u001b[0m     describe_url_pandas,\n\u001b[0;32m     16\u001b[0m     duplicates_pandas,\n\u001b[0;32m     17\u001b[0m     missing_pandas,\n\u001b[0;32m     18\u001b[0m     sample_pandas,\n\u001b[0;32m     19\u001b[0m     summary_pandas,\n\u001b[0;32m     20\u001b[0m     table_pandas,\n\u001b[0;32m     21\u001b[0m )\n\u001b[0;32m     23\u001b[0m __all__ \u001b[38;5;241m=\u001b[39m [\n\u001b[0;32m     24\u001b[0m     \u001b[38;5;124m\"\u001b[39m\u001b[38;5;124mcorrelations_pandas\u001b[39m\u001b[38;5;124m\"\u001b[39m,\n\u001b[0;32m     25\u001b[0m     \u001b[38;5;124m\"\u001b[39m\u001b[38;5;124mdataframe_pandas\u001b[39m\u001b[38;5;124m\"\u001b[39m,\n\u001b[1;32m   (...)\u001b[0m\n\u001b[0;32m     43\u001b[0m     \u001b[38;5;124m\"\u001b[39m\u001b[38;5;124mtable_pandas\u001b[39m\u001b[38;5;124m\"\u001b[39m,\n\u001b[0;32m     44\u001b[0m ]\n",
      "File \u001b[1;32m~\\AppData\\Roaming\\Python\\Python39\\site-packages\\pandas_profiling\\model\\pandas\\describe_image_pandas.py:6\u001b[0m\n\u001b[0;32m      3\u001b[0m \u001b[38;5;28;01mfrom\u001b[39;00m \u001b[38;5;21;01mpathlib\u001b[39;00m \u001b[38;5;28;01mimport\u001b[39;00m Path\n\u001b[0;32m      4\u001b[0m \u001b[38;5;28;01mfrom\u001b[39;00m \u001b[38;5;21;01mtyping\u001b[39;00m \u001b[38;5;28;01mimport\u001b[39;00m Optional, Tuple, Union\n\u001b[1;32m----> 6\u001b[0m \u001b[38;5;28;01mimport\u001b[39;00m \u001b[38;5;21;01mimagehash\u001b[39;00m\n\u001b[0;32m      7\u001b[0m \u001b[38;5;28;01mimport\u001b[39;00m \u001b[38;5;21;01mpandas\u001b[39;00m \u001b[38;5;28;01mas\u001b[39;00m \u001b[38;5;21;01mpd\u001b[39;00m\n\u001b[0;32m      8\u001b[0m \u001b[38;5;28;01mfrom\u001b[39;00m \u001b[38;5;21;01mPIL\u001b[39;00m \u001b[38;5;28;01mimport\u001b[39;00m ExifTags, Image\n",
      "File \u001b[1;32m~\\AppData\\Roaming\\Python\\Python39\\site-packages\\imagehash\\__init__.py:155\u001b[0m\n\u001b[0;32m    153\u001b[0m \t\u001b[38;5;28;01mfrom\u001b[39;00m \u001b[38;5;21;01mtyping\u001b[39;00m \u001b[38;5;28;01mimport\u001b[39;00m Callable\n\u001b[0;32m    154\u001b[0m \u001b[38;5;28;01melse\u001b[39;00m:\n\u001b[1;32m--> 155\u001b[0m \t\u001b[38;5;28;01mfrom\u001b[39;00m \u001b[38;5;21;01msix\u001b[39;00m\u001b[38;5;21;01m.\u001b[39;00m\u001b[38;5;21;01mmoves\u001b[39;00m\u001b[38;5;21;01m.\u001b[39;00m\u001b[38;5;21;01mcollections_abc\u001b[39;00m \u001b[38;5;28;01mimport\u001b[39;00m Callable\n\u001b[0;32m    156\u001b[0m \u001b[38;5;28;01mtry\u001b[39;00m:\n\u001b[0;32m    157\u001b[0m \tMeanFunc \u001b[38;5;241m=\u001b[39m Callable[[NDArray], \u001b[38;5;28mfloat\u001b[39m]\n",
      "\u001b[1;31mModuleNotFoundError\u001b[0m: No module named 'six.moves.collections_abc'"
     ]
    }
   ],
   "source": [
    "import pandas as pd\n",
    "import numpy as np\n",
    "import matplotlib.pyplot as plt\n",
    "import seaborn as sns\n",
    "from sklearn import feature_extraction, tree, model_selection, metrics\n",
    "from sklearn.model_selection import train_test_split\n",
    "import numpy as np\n",
    "import re\n",
    "import pandas_profiling\n",
    "%matplotlib inline"
   ]
  },
  {
   "cell_type": "markdown",
   "id": "d67d56a8-3244-4017-b9e3-7745b5b516a0",
   "metadata": {},
   "source": [
    "#### Load the dataset"
   ]
  },
  {
   "cell_type": "code",
   "execution_count": 3,
   "id": "5b981c13-90ae-4ca0-8b72-da6f6f7981e2",
   "metadata": {},
   "outputs": [],
   "source": [
    "df = pd.read_csv ('dataset_pishing.csv')"
   ]
  },
  {
   "cell_type": "markdown",
   "id": "3aefeb58-a0d7-4b76-b200-25d5aa1260c1",
   "metadata": {},
   "source": [
    "#### Show first 5 rows"
   ]
  },
  {
   "cell_type": "code",
   "execution_count": 5,
   "id": "4a068044-0660-4aef-bc58-e8f8c6e2cda3",
   "metadata": {},
   "outputs": [
    {
     "data": {
      "text/html": [
       "<div>\n",
       "<style scoped>\n",
       "    .dataframe tbody tr th:only-of-type {\n",
       "        vertical-align: middle;\n",
       "    }\n",
       "\n",
       "    .dataframe tbody tr th {\n",
       "        vertical-align: top;\n",
       "    }\n",
       "\n",
       "    .dataframe thead th {\n",
       "        text-align: right;\n",
       "    }\n",
       "</style>\n",
       "<table border=\"1\" class=\"dataframe\">\n",
       "  <thead>\n",
       "    <tr style=\"text-align: right;\">\n",
       "      <th></th>\n",
       "      <th>url</th>\n",
       "      <th>ip</th>\n",
       "      <th>nb_www</th>\n",
       "      <th>nb_com</th>\n",
       "      <th>nb_dslash</th>\n",
       "      <th>http_in_path</th>\n",
       "      <th>punycode</th>\n",
       "      <th>port</th>\n",
       "      <th>tld_in_path</th>\n",
       "      <th>tld_in_subdomain</th>\n",
       "      <th>...</th>\n",
       "      <th>domain_in_title</th>\n",
       "      <th>domain_with_copyright</th>\n",
       "      <th>whois_registered_domain</th>\n",
       "      <th>domain_registration_length</th>\n",
       "      <th>domain_age</th>\n",
       "      <th>web_traffic</th>\n",
       "      <th>dns_record</th>\n",
       "      <th>google_index</th>\n",
       "      <th>page_rank</th>\n",
       "      <th>status</th>\n",
       "    </tr>\n",
       "  </thead>\n",
       "  <tbody>\n",
       "    <tr>\n",
       "      <th>0</th>\n",
       "      <td>http://www.crestonwood.com/router.php</td>\n",
       "      <td>0</td>\n",
       "      <td>1</td>\n",
       "      <td>0</td>\n",
       "      <td>0</td>\n",
       "      <td>0</td>\n",
       "      <td>0</td>\n",
       "      <td>0</td>\n",
       "      <td>0</td>\n",
       "      <td>0</td>\n",
       "      <td>...</td>\n",
       "      <td>0</td>\n",
       "      <td>1</td>\n",
       "      <td>0</td>\n",
       "      <td>45</td>\n",
       "      <td>-1</td>\n",
       "      <td>0</td>\n",
       "      <td>1</td>\n",
       "      <td>1</td>\n",
       "      <td>4</td>\n",
       "      <td>legitimate</td>\n",
       "    </tr>\n",
       "    <tr>\n",
       "      <th>1</th>\n",
       "      <td>http://shadetreetechnology.com/V4/validation/a...</td>\n",
       "      <td>1</td>\n",
       "      <td>0</td>\n",
       "      <td>0</td>\n",
       "      <td>0</td>\n",
       "      <td>0</td>\n",
       "      <td>0</td>\n",
       "      <td>0</td>\n",
       "      <td>0</td>\n",
       "      <td>0</td>\n",
       "      <td>...</td>\n",
       "      <td>1</td>\n",
       "      <td>0</td>\n",
       "      <td>0</td>\n",
       "      <td>77</td>\n",
       "      <td>5767</td>\n",
       "      <td>0</td>\n",
       "      <td>0</td>\n",
       "      <td>1</td>\n",
       "      <td>2</td>\n",
       "      <td>phishing</td>\n",
       "    </tr>\n",
       "    <tr>\n",
       "      <th>2</th>\n",
       "      <td>https://support-appleld.com.secureupdate.duila...</td>\n",
       "      <td>1</td>\n",
       "      <td>0</td>\n",
       "      <td>1</td>\n",
       "      <td>0</td>\n",
       "      <td>0</td>\n",
       "      <td>0</td>\n",
       "      <td>0</td>\n",
       "      <td>0</td>\n",
       "      <td>1</td>\n",
       "      <td>...</td>\n",
       "      <td>1</td>\n",
       "      <td>0</td>\n",
       "      <td>0</td>\n",
       "      <td>14</td>\n",
       "      <td>4004</td>\n",
       "      <td>5828815</td>\n",
       "      <td>0</td>\n",
       "      <td>1</td>\n",
       "      <td>0</td>\n",
       "      <td>phishing</td>\n",
       "    </tr>\n",
       "    <tr>\n",
       "      <th>3</th>\n",
       "      <td>http://rgipt.ac.in</td>\n",
       "      <td>0</td>\n",
       "      <td>0</td>\n",
       "      <td>0</td>\n",
       "      <td>0</td>\n",
       "      <td>0</td>\n",
       "      <td>0</td>\n",
       "      <td>0</td>\n",
       "      <td>0</td>\n",
       "      <td>0</td>\n",
       "      <td>...</td>\n",
       "      <td>1</td>\n",
       "      <td>0</td>\n",
       "      <td>0</td>\n",
       "      <td>62</td>\n",
       "      <td>-1</td>\n",
       "      <td>107721</td>\n",
       "      <td>0</td>\n",
       "      <td>0</td>\n",
       "      <td>3</td>\n",
       "      <td>legitimate</td>\n",
       "    </tr>\n",
       "    <tr>\n",
       "      <th>4</th>\n",
       "      <td>http://www.iracing.com/tracks/gateway-motorspo...</td>\n",
       "      <td>0</td>\n",
       "      <td>1</td>\n",
       "      <td>0</td>\n",
       "      <td>0</td>\n",
       "      <td>0</td>\n",
       "      <td>0</td>\n",
       "      <td>0</td>\n",
       "      <td>0</td>\n",
       "      <td>0</td>\n",
       "      <td>...</td>\n",
       "      <td>0</td>\n",
       "      <td>1</td>\n",
       "      <td>0</td>\n",
       "      <td>224</td>\n",
       "      <td>8175</td>\n",
       "      <td>8725</td>\n",
       "      <td>0</td>\n",
       "      <td>0</td>\n",
       "      <td>6</td>\n",
       "      <td>legitimate</td>\n",
       "    </tr>\n",
       "  </tbody>\n",
       "</table>\n",
       "<p>5 rows × 67 columns</p>\n",
       "</div>"
      ],
      "text/plain": [
       "                                                 url  ip  nb_www  nb_com  \\\n",
       "0              http://www.crestonwood.com/router.php   0       1       0   \n",
       "1  http://shadetreetechnology.com/V4/validation/a...   1       0       0   \n",
       "2  https://support-appleld.com.secureupdate.duila...   1       0       1   \n",
       "3                                 http://rgipt.ac.in   0       0       0   \n",
       "4  http://www.iracing.com/tracks/gateway-motorspo...   0       1       0   \n",
       "\n",
       "   nb_dslash  http_in_path  punycode  port  tld_in_path  tld_in_subdomain  \\\n",
       "0          0             0         0     0            0                 0   \n",
       "1          0             0         0     0            0                 0   \n",
       "2          0             0         0     0            0                 1   \n",
       "3          0             0         0     0            0                 0   \n",
       "4          0             0         0     0            0                 0   \n",
       "\n",
       "   ...  domain_in_title  domain_with_copyright  whois_registered_domain  \\\n",
       "0  ...                0                      1                        0   \n",
       "1  ...                1                      0                        0   \n",
       "2  ...                1                      0                        0   \n",
       "3  ...                1                      0                        0   \n",
       "4  ...                0                      1                        0   \n",
       "\n",
       "   domain_registration_length  domain_age  web_traffic  dns_record  \\\n",
       "0                          45          -1            0           1   \n",
       "1                          77        5767            0           0   \n",
       "2                          14        4004      5828815           0   \n",
       "3                          62          -1       107721           0   \n",
       "4                         224        8175         8725           0   \n",
       "\n",
       "   google_index  page_rank      status  \n",
       "0             1          4  legitimate  \n",
       "1             1          2    phishing  \n",
       "2             1          0    phishing  \n",
       "3             0          3  legitimate  \n",
       "4             0          6  legitimate  \n",
       "\n",
       "[5 rows x 67 columns]"
      ]
     },
     "execution_count": 5,
     "metadata": {},
     "output_type": "execute_result"
    }
   ],
   "source": [
    "df.head()"
   ]
  },
  {
   "cell_type": "code",
   "execution_count": null,
   "id": "2cda1bd3",
   "metadata": {},
   "outputs": [],
   "source": [
    "dataset.columns.values"
   ]
  },
  {
   "cell_type": "markdown",
   "id": "b6800ac5-f93d-4296-93e4-b40e2c837296",
   "metadata": {},
   "source": [
    "#### Show the count of observations in the status columns"
   ]
  },
  {
   "cell_type": "code",
   "execution_count": 6,
   "id": "cfb01693-548c-4d4a-bd16-cf41c355c68c",
   "metadata": {},
   "outputs": [
    {
     "data": {
      "text/plain": [
       "legitimate    5715\n",
       "phishing      5715\n",
       "Name: status, dtype: int64"
      ]
     },
     "execution_count": 6,
     "metadata": {},
     "output_type": "execute_result"
    }
   ],
   "source": [
    "df['status'].value_counts()"
   ]
  },
  {
   "cell_type": "markdown",
   "id": "0d805049-98fa-4cca-bc76-0f1b15d05ddd",
   "metadata": {},
   "source": [
    "Se puede observar que el dataset esta balanceado ya que hay la misma cantidad de urls catalogadas como pshing como legitimate"
   ]
  },
  {
   "cell_type": "markdown",
   "id": "6abb232c-6a71-44e8-9233-2b9bd58db572",
   "metadata": {},
   "source": [
    "Derivación de características\n",
    "En base al artículo “Towards Benchmark Datasets for ML Based Wensite Phishing Detection: An\n",
    "Experimental Study”, derivar las características basadas en el dominio: f1, f2, f4 – f20, f25, f26 y f27.\n",
    "Para ello escriba las funciones necesarias y genere las nuevas columnas del dataset. Muestre un nuevo\n",
    "ejemplo de cinco observaciones donde se visualicen algunas de las columnas nuevas"
   ]
  },
  {
   "cell_type": "code",
   "execution_count": null,
   "id": "3fad243e",
   "metadata": {},
   "outputs": [],
   "source": []
  },
  {
   "cell_type": "markdown",
   "id": "9df56404-b4db-4b47-b346-0543cf09c9c3",
   "metadata": {},
   "source": [
    "#### Show first 5 rows after transformations"
   ]
  },
  {
   "cell_type": "code",
   "execution_count": 7,
   "id": "e2bef74d-2f40-4b3b-865f-74456132fd31",
   "metadata": {},
   "outputs": [
    {
     "data": {
      "text/html": [
       "<div>\n",
       "<style scoped>\n",
       "    .dataframe tbody tr th:only-of-type {\n",
       "        vertical-align: middle;\n",
       "    }\n",
       "\n",
       "    .dataframe tbody tr th {\n",
       "        vertical-align: top;\n",
       "    }\n",
       "\n",
       "    .dataframe thead th {\n",
       "        text-align: right;\n",
       "    }\n",
       "</style>\n",
       "<table border=\"1\" class=\"dataframe\">\n",
       "  <thead>\n",
       "    <tr style=\"text-align: right;\">\n",
       "      <th></th>\n",
       "      <th>url</th>\n",
       "      <th>ip</th>\n",
       "      <th>nb_www</th>\n",
       "      <th>nb_com</th>\n",
       "      <th>nb_dslash</th>\n",
       "      <th>http_in_path</th>\n",
       "      <th>punycode</th>\n",
       "      <th>port</th>\n",
       "      <th>tld_in_path</th>\n",
       "      <th>tld_in_subdomain</th>\n",
       "      <th>...</th>\n",
       "      <th>domain_in_title</th>\n",
       "      <th>domain_with_copyright</th>\n",
       "      <th>whois_registered_domain</th>\n",
       "      <th>domain_registration_length</th>\n",
       "      <th>domain_age</th>\n",
       "      <th>web_traffic</th>\n",
       "      <th>dns_record</th>\n",
       "      <th>google_index</th>\n",
       "      <th>page_rank</th>\n",
       "      <th>status</th>\n",
       "    </tr>\n",
       "  </thead>\n",
       "  <tbody>\n",
       "    <tr>\n",
       "      <th>0</th>\n",
       "      <td>http://www.crestonwood.com/router.php</td>\n",
       "      <td>0</td>\n",
       "      <td>1</td>\n",
       "      <td>0</td>\n",
       "      <td>0</td>\n",
       "      <td>0</td>\n",
       "      <td>0</td>\n",
       "      <td>0</td>\n",
       "      <td>0</td>\n",
       "      <td>0</td>\n",
       "      <td>...</td>\n",
       "      <td>0</td>\n",
       "      <td>1</td>\n",
       "      <td>0</td>\n",
       "      <td>45</td>\n",
       "      <td>-1</td>\n",
       "      <td>0</td>\n",
       "      <td>1</td>\n",
       "      <td>1</td>\n",
       "      <td>4</td>\n",
       "      <td>legitimate</td>\n",
       "    </tr>\n",
       "    <tr>\n",
       "      <th>1</th>\n",
       "      <td>http://shadetreetechnology.com/V4/validation/a...</td>\n",
       "      <td>1</td>\n",
       "      <td>0</td>\n",
       "      <td>0</td>\n",
       "      <td>0</td>\n",
       "      <td>0</td>\n",
       "      <td>0</td>\n",
       "      <td>0</td>\n",
       "      <td>0</td>\n",
       "      <td>0</td>\n",
       "      <td>...</td>\n",
       "      <td>1</td>\n",
       "      <td>0</td>\n",
       "      <td>0</td>\n",
       "      <td>77</td>\n",
       "      <td>5767</td>\n",
       "      <td>0</td>\n",
       "      <td>0</td>\n",
       "      <td>1</td>\n",
       "      <td>2</td>\n",
       "      <td>phishing</td>\n",
       "    </tr>\n",
       "    <tr>\n",
       "      <th>2</th>\n",
       "      <td>https://support-appleld.com.secureupdate.duila...</td>\n",
       "      <td>1</td>\n",
       "      <td>0</td>\n",
       "      <td>1</td>\n",
       "      <td>0</td>\n",
       "      <td>0</td>\n",
       "      <td>0</td>\n",
       "      <td>0</td>\n",
       "      <td>0</td>\n",
       "      <td>1</td>\n",
       "      <td>...</td>\n",
       "      <td>1</td>\n",
       "      <td>0</td>\n",
       "      <td>0</td>\n",
       "      <td>14</td>\n",
       "      <td>4004</td>\n",
       "      <td>5828815</td>\n",
       "      <td>0</td>\n",
       "      <td>1</td>\n",
       "      <td>0</td>\n",
       "      <td>phishing</td>\n",
       "    </tr>\n",
       "    <tr>\n",
       "      <th>3</th>\n",
       "      <td>http://rgipt.ac.in</td>\n",
       "      <td>0</td>\n",
       "      <td>0</td>\n",
       "      <td>0</td>\n",
       "      <td>0</td>\n",
       "      <td>0</td>\n",
       "      <td>0</td>\n",
       "      <td>0</td>\n",
       "      <td>0</td>\n",
       "      <td>0</td>\n",
       "      <td>...</td>\n",
       "      <td>1</td>\n",
       "      <td>0</td>\n",
       "      <td>0</td>\n",
       "      <td>62</td>\n",
       "      <td>-1</td>\n",
       "      <td>107721</td>\n",
       "      <td>0</td>\n",
       "      <td>0</td>\n",
       "      <td>3</td>\n",
       "      <td>legitimate</td>\n",
       "    </tr>\n",
       "    <tr>\n",
       "      <th>4</th>\n",
       "      <td>http://www.iracing.com/tracks/gateway-motorspo...</td>\n",
       "      <td>0</td>\n",
       "      <td>1</td>\n",
       "      <td>0</td>\n",
       "      <td>0</td>\n",
       "      <td>0</td>\n",
       "      <td>0</td>\n",
       "      <td>0</td>\n",
       "      <td>0</td>\n",
       "      <td>0</td>\n",
       "      <td>...</td>\n",
       "      <td>0</td>\n",
       "      <td>1</td>\n",
       "      <td>0</td>\n",
       "      <td>224</td>\n",
       "      <td>8175</td>\n",
       "      <td>8725</td>\n",
       "      <td>0</td>\n",
       "      <td>0</td>\n",
       "      <td>6</td>\n",
       "      <td>legitimate</td>\n",
       "    </tr>\n",
       "  </tbody>\n",
       "</table>\n",
       "<p>5 rows × 67 columns</p>\n",
       "</div>"
      ],
      "text/plain": [
       "                                                 url  ip  nb_www  nb_com  \\\n",
       "0              http://www.crestonwood.com/router.php   0       1       0   \n",
       "1  http://shadetreetechnology.com/V4/validation/a...   1       0       0   \n",
       "2  https://support-appleld.com.secureupdate.duila...   1       0       1   \n",
       "3                                 http://rgipt.ac.in   0       0       0   \n",
       "4  http://www.iracing.com/tracks/gateway-motorspo...   0       1       0   \n",
       "\n",
       "   nb_dslash  http_in_path  punycode  port  tld_in_path  tld_in_subdomain  \\\n",
       "0          0             0         0     0            0                 0   \n",
       "1          0             0         0     0            0                 0   \n",
       "2          0             0         0     0            0                 1   \n",
       "3          0             0         0     0            0                 0   \n",
       "4          0             0         0     0            0                 0   \n",
       "\n",
       "   ...  domain_in_title  domain_with_copyright  whois_registered_domain  \\\n",
       "0  ...                0                      1                        0   \n",
       "1  ...                1                      0                        0   \n",
       "2  ...                1                      0                        0   \n",
       "3  ...                1                      0                        0   \n",
       "4  ...                0                      1                        0   \n",
       "\n",
       "   domain_registration_length  domain_age  web_traffic  dns_record  \\\n",
       "0                          45          -1            0           1   \n",
       "1                          77        5767            0           0   \n",
       "2                          14        4004      5828815           0   \n",
       "3                          62          -1       107721           0   \n",
       "4                         224        8175         8725           0   \n",
       "\n",
       "   google_index  page_rank      status  \n",
       "0             1          4  legitimate  \n",
       "1             1          2    phishing  \n",
       "2             1          0    phishing  \n",
       "3             0          3  legitimate  \n",
       "4             0          6  legitimate  \n",
       "\n",
       "[5 rows x 67 columns]"
      ]
     },
     "execution_count": 7,
     "metadata": {},
     "output_type": "execute_result"
    }
   ],
   "source": [
    "df.head()"
   ]
  },
  {
   "cell_type": "markdown",
   "id": "093b1188-b5a6-4d9c-8db0-889603955ffd",
   "metadata": {},
   "source": [
    "#### Preprocessing the dataset"
   ]
  },
  {
   "cell_type": "code",
   "execution_count": 9,
   "id": "e8b3b00c-00c0-4311-b384-6a849b6cee02",
   "metadata": {},
   "outputs": [],
   "source": [
    "# converting the status column to binariy\n",
    "df['status'] = np.where(df['status'] == 'phishing', 1, 0)"
   ]
  },
  {
   "cell_type": "code",
   "execution_count": 10,
   "id": "5f7699c9-7b96-4c58-b7fd-029cce784eed",
   "metadata": {},
   "outputs": [],
   "source": [
    "df = df.drop(['url'], axis=1)"
   ]
  },
  {
   "cell_type": "markdown",
   "id": "c588ad96-74a4-4451-8f34-3c45884e862b",
   "metadata": {},
   "source": [
    "#### Pandas Profiling"
   ]
  },
  {
   "cell_type": "code",
   "execution_count": 12,
   "id": "b150884a-e4ad-46c2-97d4-80d045254dce",
   "metadata": {},
   "outputs": [
    {
     "data": {
      "application/vnd.jupyter.widget-view+json": {
       "model_id": "d566747ef36340ffa95cd79570fc9071",
       "version_major": 2,
       "version_minor": 0
      },
      "text/plain": [
       "Summarize dataset:   0%|          | 0/5 [00:00<?, ?it/s]"
      ]
     },
     "metadata": {},
     "output_type": "display_data"
    },
    {
     "name": "stderr",
     "output_type": "stream",
     "text": [
      "C:\\Users\\melma\\AppData\\Roaming\\Python\\Python39\\site-packages\\missingno\\missingno.py:254: UserWarning: FixedFormatter should only be used together with FixedLocator\n",
      "  ax1.set_xticklabels(\n",
      "C:\\Users\\melma\\AppData\\Roaming\\Python\\Python39\\site-packages\\pandas_profiling\\model\\missing.py:89: UserWarning: There was an attempt to generate the Count missing values diagrams, but this failed.\n",
      "To hide this warning, disable the calculation\n",
      "(using `df.profile_report(missing_diagrams={\"Count\": False}`)\n",
      "If this is problematic for your use case, please report this as an issue:\n",
      "https://github.com/pandas-profiling/pandas-profiling/issues\n",
      "(include the error message: 'The number of FixedLocator locations (7), usually from a call to set_ticks, does not match the number of ticklabels (66).')\n",
      "  warnings.warn(\n"
     ]
    },
    {
     "data": {
      "application/vnd.jupyter.widget-view+json": {
       "model_id": "38d4fb71998b41ecb527aa17d6e6ae3a",
       "version_major": 2,
       "version_minor": 0
      },
      "text/plain": [
       "Generate report structure:   0%|          | 0/1 [00:00<?, ?it/s]"
      ]
     },
     "metadata": {},
     "output_type": "display_data"
    },
    {
     "data": {
      "application/vnd.jupyter.widget-view+json": {
       "model_id": "b37e0a62a7da457180afeedba66bec8d",
       "version_major": 2,
       "version_minor": 0
      },
      "text/plain": [
       "Render HTML:   0%|          | 0/1 [00:00<?, ?it/s]"
      ]
     },
     "metadata": {},
     "output_type": "display_data"
    },
    {
     "data": {
      "application/vnd.jupyter.widget-view+json": {
       "model_id": "a9cdf18cb4964388b5b75d62777e663e",
       "version_major": 2,
       "version_minor": 0
      },
      "text/plain": [
       "Export report to file:   0%|          | 0/1 [00:00<?, ?it/s]"
      ]
     },
     "metadata": {},
     "output_type": "display_data"
    },
    {
     "data": {
      "image/png": "[encoded data removed]",
      "text/plain": [
       "<Figure size 720x360 with 3 Axes>"
      ]
     },
     "metadata": {},
     "output_type": "display_data"
    }
   ],
   "source": [
    "profile = df.profile_report(title=\"Phishing dataset Report\")\n",
    "profile.to_file(output_file=\"lab1_pandas_report.html\")"
   ]
  },
  {
   "cell_type": "markdown",
   "id": "b0293c7f-25ba-44f2-9947-1b78fed2376d",
   "metadata": {},
   "source": [
    "#### Based on the report, drop the next columns"
   ]
  },
  {
   "cell_type": "code",
   "execution_count": null,
   "id": "16edf627-c45e-4a5e-b6e1-f844183bf6d7",
   "metadata": {},
   "outputs": [],
   "source": [
    "df = df.drop(['url'], axis=1)"
   ]
  },
  {
   "cell_type": "markdown",
   "id": "7ffaa6f2-de37-4622-ab64-e2b8d8938956",
   "metadata": {},
   "source": [
    "#### Create the train,test and validation \n",
    "* train size 55%\n",
    "* test size 30%\n",
    "* validation size 15%"
   ]
  },
  {
   "cell_type": "code",
   "execution_count": 26,
   "id": "ffbefccc-78c0-4c0f-8383-657a1ea3a7da",
   "metadata": {},
   "outputs": [],
   "source": [
    "train_size=0.55\n",
    "test_size = 0.66 # this is equavalent to the 30% of the test size"
   ]
  },
  {
   "cell_type": "code",
   "execution_count": 17,
   "id": "041f7cb5-1a5d-4a7c-ba08-2f16e88312dc",
   "metadata": {},
   "outputs": [],
   "source": [
    "X = df.drop(columns = ['status']).copy()\n",
    "y = df['status']"
   ]
  },
  {
   "cell_type": "code",
   "execution_count": 31,
   "id": "6f95a3d0-08dd-41f5-8b13-5a17c26c76c4",
   "metadata": {},
   "outputs": [],
   "source": [
    "# In the first step we will split the data in training and remaining dataset\n",
    "X_train, X_rem, y_train, y_rem = train_test_split(X,y, train_size=train_size,random_state=42)"
   ]
  },
  {
   "cell_type": "code",
   "execution_count": 32,
   "id": "82bbc9d8-c388-4019-9140-6d919cd934ab",
   "metadata": {},
   "outputs": [],
   "source": [
    "# Now since we want the valid and test size. \n",
    "# we have to define valid_size=0.5 (that is 50% of remaining data)\n",
    "X_valid, X_test, y_valid, y_test = train_test_split(X_rem,y_rem, test_size=test_size,random_state=42)"
   ]
  },
  {
   "cell_type": "markdown",
   "id": "6380080e-ff4e-4202-aca0-5b00d9b7324a",
   "metadata": {},
   "source": [
    "#### Saving the train, test and validation data sets"
   ]
  },
  {
   "cell_type": "code",
   "execution_count": 50,
   "id": "e17a15f2-eb1f-49bf-95d2-0f18dcda6542",
   "metadata": {},
   "outputs": [],
   "source": [
    "train_df = X_train.copy()\n",
    "train_df['status'] = y_train.tolist()\n",
    "train_df.reset_index(drop=True, inplace=True)\n",
    "train_df.to_csv('train_dataset.csv', index = False, encoding='utf-8')"
   ]
  },
  {
   "cell_type": "code",
   "execution_count": 51,
   "id": "e8ddd43d-92cb-45df-8921-e5af7f646057",
   "metadata": {},
   "outputs": [],
   "source": [
    "valid_df = X_valid.copy()\n",
    "valid_df['status'] = y_valid.tolist()\n",
    "valid_df.reset_index(drop=True, inplace=True)\n",
    "valid_df.to_csv('validation_dataset.csv', index = False, encoding='utf-8')"
   ]
  },
  {
   "cell_type": "code",
   "execution_count": 52,
   "id": "b1c03f59-f89d-47e8-85fa-171ca4df4e55",
   "metadata": {},
   "outputs": [],
   "source": [
    "test_df = X_test.copy()\n",
    "test_df['status'] = y_test.tolist()\n",
    "test_df.reset_index(drop=True, inplace=True)\n",
    "test_df.to_csv('test_dataset.csv', index = False, encoding='utf-8')"
   ]
  },
  {
   "cell_type": "markdown",
   "id": "cea261aa-74de-4104-b157-a6261626f7cd",
   "metadata": {},
   "source": [
    "#### Machine Learning Implamentation"
   ]
  },
  {
   "cell_type": "markdown",
   "id": "d4d775cc-3419-44de-b158-796c16b7c6af",
   "metadata": {},
   "source": [
    "Utilice dos algoritmos de Machine Learning para entrenar el modelo. Muestre y explique los valores obtenidos de las siguientes métricas para los datos de validación y pruebas, para cada modelo, en base al contexto del problema (detección de Pishing).\n",
    "* Matriz de confusión\n",
    "* Precision\n",
    "* Recall\n",
    "* F1 Score"
   ]
  },
  {
   "cell_type": "markdown",
   "id": "f448fd4a-d181-495b-8468-63c350cb2d21",
   "metadata": {},
   "source": [
    "#### Discusion"
   ]
  },
  {
   "cell_type": "markdown",
   "id": "c227eb56-fc6c-4b76-b560-5d320c6e8fc2",
   "metadata": {},
   "source": [
    "1. ¿Cuál es el impacto de clasificar un sitio legítimo como Pishing?\n",
    "2. ¿Cuál es el impacto de clasificar un sitio de Pishing como legítimo?\n",
    "3. En base a las respuestas anteriores, ¿Qué métrica elegiría para comparar modelos similares de clasificación de pishing?\n",
    "4. ¿Qué modelo es mejor para la clasificación de Pishing? Justifique\n",
    "5. En base a las métricas obtenidas ¿es necesaria la intervención de una persona humana para tomar la decisión final?"
   ]
  },
  {
   "cell_type": "code",
   "execution_count": null,
   "id": "d18b4d7f-c674-4c58-9a04-5322c8e3d9d7",
   "metadata": {},
   "outputs": [],
   "source": []
  }
 ],
 "metadata": {
  "kernelspec": {
   "display_name": "Python 3 (ipykernel)",
   "language": "python",
   "name": "python3"
  },
  "language_info": {
   "codemirror_mode": {
    "name": "ipython",
    "version": 3
   },
   "file_extension": ".py",
   "mimetype": "text/x-python",
   "name": "python",
   "nbconvert_exporter": "python",
   "pygments_lexer": "ipython3",
   "version": "3.9.13"
  }
 },
 "nbformat": 4,
 "nbformat_minor": 5
}
