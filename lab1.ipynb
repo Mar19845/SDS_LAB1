{
 "cells": [
  {
   "cell_type": "markdown",
   "id": "bef99d29-8cb3-429a-a782-4a925bd37da5",
   "metadata": {},
   "source": [
    "## Universidad del Valle de Guatemala\n",
    "### Security Data Science\n",
    "* Juan Marroquin 19845\n",
    "* Carlos Raxtum 19721\n",
    "\n",
    "\n",
    "##### Import Libraries"
   ]
  },
  {
   "cell_type": "code",
   "execution_count": 18,
   "id": "0ccfb896-7e51-43ba-af9b-8268116342af",
   "metadata": {},
   "outputs": [],
   "source": [
    "import pandas as pd\n",
    "import numpy as np\n",
    "import matplotlib.pyplot as plt\n",
    "import seaborn as sns\n",
    "from sklearn import feature_extraction, tree, model_selection, metrics\n",
    "from sklearn.model_selection import train_test_split\n",
    "import numpy as np\n",
    "import re\n",
    "import pandas_profiling\n",
    "%matplotlib inline"
   ]
  },
  {
   "cell_type": "markdown",
   "id": "d67d56a8-3244-4017-b9e3-7745b5b516a0",
   "metadata": {},
   "source": [
    "#### Load the dataset"
   ]
  },
  {
   "cell_type": "code",
   "execution_count": 92,
   "id": "5b981c13-90ae-4ca0-8b72-da6f6f7981e2",
   "metadata": {},
   "outputs": [],
   "source": [
    "df = pd.read_csv ('dataset_pishing.csv')"
   ]
  },
  {
   "cell_type": "markdown",
   "id": "3aefeb58-a0d7-4b76-b200-25d5aa1260c1",
   "metadata": {},
   "source": [
    "#### Show first 5 rows"
   ]
  },
  {
   "cell_type": "code",
   "execution_count": 93,
   "id": "4a068044-0660-4aef-bc58-e8f8c6e2cda3",
   "metadata": {},
   "outputs": [
    {
     "data": {
      "text/html": [
       "<div>\n",
       "<style scoped>\n",
       "    .dataframe tbody tr th:only-of-type {\n",
       "        vertical-align: middle;\n",
       "    }\n",
       "\n",
       "    .dataframe tbody tr th {\n",
       "        vertical-align: top;\n",
       "    }\n",
       "\n",
       "    .dataframe thead th {\n",
       "        text-align: right;\n",
       "    }\n",
       "</style>\n",
       "<table border=\"1\" class=\"dataframe\">\n",
       "  <thead>\n",
       "    <tr style=\"text-align: right;\">\n",
       "      <th></th>\n",
       "      <th>url</th>\n",
       "      <th>ip</th>\n",
       "      <th>nb_www</th>\n",
       "      <th>nb_com</th>\n",
       "      <th>nb_dslash</th>\n",
       "      <th>http_in_path</th>\n",
       "      <th>punycode</th>\n",
       "      <th>port</th>\n",
       "      <th>tld_in_path</th>\n",
       "      <th>tld_in_subdomain</th>\n",
       "      <th>...</th>\n",
       "      <th>domain_in_title</th>\n",
       "      <th>domain_with_copyright</th>\n",
       "      <th>whois_registered_domain</th>\n",
       "      <th>domain_registration_length</th>\n",
       "      <th>domain_age</th>\n",
       "      <th>web_traffic</th>\n",
       "      <th>dns_record</th>\n",
       "      <th>google_index</th>\n",
       "      <th>page_rank</th>\n",
       "      <th>status</th>\n",
       "    </tr>\n",
       "  </thead>\n",
       "  <tbody>\n",
       "    <tr>\n",
       "      <th>0</th>\n",
       "      <td>http://www.crestonwood.com/router.php</td>\n",
       "      <td>0</td>\n",
       "      <td>1</td>\n",
       "      <td>0</td>\n",
       "      <td>0</td>\n",
       "      <td>0</td>\n",
       "      <td>0</td>\n",
       "      <td>0</td>\n",
       "      <td>0</td>\n",
       "      <td>0</td>\n",
       "      <td>...</td>\n",
       "      <td>0</td>\n",
       "      <td>1</td>\n",
       "      <td>0</td>\n",
       "      <td>45</td>\n",
       "      <td>-1</td>\n",
       "      <td>0</td>\n",
       "      <td>1</td>\n",
       "      <td>1</td>\n",
       "      <td>4</td>\n",
       "      <td>legitimate</td>\n",
       "    </tr>\n",
       "    <tr>\n",
       "      <th>1</th>\n",
       "      <td>http://shadetreetechnology.com/V4/validation/a...</td>\n",
       "      <td>1</td>\n",
       "      <td>0</td>\n",
       "      <td>0</td>\n",
       "      <td>0</td>\n",
       "      <td>0</td>\n",
       "      <td>0</td>\n",
       "      <td>0</td>\n",
       "      <td>0</td>\n",
       "      <td>0</td>\n",
       "      <td>...</td>\n",
       "      <td>1</td>\n",
       "      <td>0</td>\n",
       "      <td>0</td>\n",
       "      <td>77</td>\n",
       "      <td>5767</td>\n",
       "      <td>0</td>\n",
       "      <td>0</td>\n",
       "      <td>1</td>\n",
       "      <td>2</td>\n",
       "      <td>phishing</td>\n",
       "    </tr>\n",
       "    <tr>\n",
       "      <th>2</th>\n",
       "      <td>https://support-appleld.com.secureupdate.duila...</td>\n",
       "      <td>1</td>\n",
       "      <td>0</td>\n",
       "      <td>1</td>\n",
       "      <td>0</td>\n",
       "      <td>0</td>\n",
       "      <td>0</td>\n",
       "      <td>0</td>\n",
       "      <td>0</td>\n",
       "      <td>1</td>\n",
       "      <td>...</td>\n",
       "      <td>1</td>\n",
       "      <td>0</td>\n",
       "      <td>0</td>\n",
       "      <td>14</td>\n",
       "      <td>4004</td>\n",
       "      <td>5828815</td>\n",
       "      <td>0</td>\n",
       "      <td>1</td>\n",
       "      <td>0</td>\n",
       "      <td>phishing</td>\n",
       "    </tr>\n",
       "    <tr>\n",
       "      <th>3</th>\n",
       "      <td>http://rgipt.ac.in</td>\n",
       "      <td>0</td>\n",
       "      <td>0</td>\n",
       "      <td>0</td>\n",
       "      <td>0</td>\n",
       "      <td>0</td>\n",
       "      <td>0</td>\n",
       "      <td>0</td>\n",
       "      <td>0</td>\n",
       "      <td>0</td>\n",
       "      <td>...</td>\n",
       "      <td>1</td>\n",
       "      <td>0</td>\n",
       "      <td>0</td>\n",
       "      <td>62</td>\n",
       "      <td>-1</td>\n",
       "      <td>107721</td>\n",
       "      <td>0</td>\n",
       "      <td>0</td>\n",
       "      <td>3</td>\n",
       "      <td>legitimate</td>\n",
       "    </tr>\n",
       "    <tr>\n",
       "      <th>4</th>\n",
       "      <td>http://www.iracing.com/tracks/gateway-motorspo...</td>\n",
       "      <td>0</td>\n",
       "      <td>1</td>\n",
       "      <td>0</td>\n",
       "      <td>0</td>\n",
       "      <td>0</td>\n",
       "      <td>0</td>\n",
       "      <td>0</td>\n",
       "      <td>0</td>\n",
       "      <td>0</td>\n",
       "      <td>...</td>\n",
       "      <td>0</td>\n",
       "      <td>1</td>\n",
       "      <td>0</td>\n",
       "      <td>224</td>\n",
       "      <td>8175</td>\n",
       "      <td>8725</td>\n",
       "      <td>0</td>\n",
       "      <td>0</td>\n",
       "      <td>6</td>\n",
       "      <td>legitimate</td>\n",
       "    </tr>\n",
       "  </tbody>\n",
       "</table>\n",
       "<p>5 rows × 67 columns</p>\n",
       "</div>"
      ],
      "text/plain": [
       "                                                 url  ip  nb_www  nb_com  \\\n",
       "0              http://www.crestonwood.com/router.php   0       1       0   \n",
       "1  http://shadetreetechnology.com/V4/validation/a...   1       0       0   \n",
       "2  https://support-appleld.com.secureupdate.duila...   1       0       1   \n",
       "3                                 http://rgipt.ac.in   0       0       0   \n",
       "4  http://www.iracing.com/tracks/gateway-motorspo...   0       1       0   \n",
       "\n",
       "   nb_dslash  http_in_path  punycode  port  tld_in_path  tld_in_subdomain  \\\n",
       "0          0             0         0     0            0                 0   \n",
       "1          0             0         0     0            0                 0   \n",
       "2          0             0         0     0            0                 1   \n",
       "3          0             0         0     0            0                 0   \n",
       "4          0             0         0     0            0                 0   \n",
       "\n",
       "   ...  domain_in_title  domain_with_copyright  whois_registered_domain  \\\n",
       "0  ...                0                      1                        0   \n",
       "1  ...                1                      0                        0   \n",
       "2  ...                1                      0                        0   \n",
       "3  ...                1                      0                        0   \n",
       "4  ...                0                      1                        0   \n",
       "\n",
       "   domain_registration_length  domain_age  web_traffic  dns_record  \\\n",
       "0                          45          -1            0           1   \n",
       "1                          77        5767            0           0   \n",
       "2                          14        4004      5828815           0   \n",
       "3                          62          -1       107721           0   \n",
       "4                         224        8175         8725           0   \n",
       "\n",
       "   google_index  page_rank      status  \n",
       "0             1          4  legitimate  \n",
       "1             1          2    phishing  \n",
       "2             1          0    phishing  \n",
       "3             0          3  legitimate  \n",
       "4             0          6  legitimate  \n",
       "\n",
       "[5 rows x 67 columns]"
      ]
     },
     "execution_count": 93,
     "metadata": {},
     "output_type": "execute_result"
    }
   ],
   "source": [
    "df.head()"
   ]
  },
  {
   "cell_type": "code",
   "execution_count": 94,
   "id": "2cda1bd3",
   "metadata": {},
   "outputs": [
    {
     "data": {
      "text/plain": [
       "array(['url', 'ip', 'nb_www', 'nb_com', 'nb_dslash', 'http_in_path',\n",
       "       'punycode', 'port', 'tld_in_path', 'tld_in_subdomain',\n",
       "       'abnormal_subdomain', 'nb_subdomains', 'prefix_suffix',\n",
       "       'random_domain', 'shortening_service', 'path_extension',\n",
       "       'nb_redirection', 'nb_external_redirection', 'length_words_raw',\n",
       "       'char_repeat', 'shortest_words_raw', 'shortest_word_host',\n",
       "       'shortest_word_path', 'longest_words_raw', 'longest_word_host',\n",
       "       'longest_word_path', 'avg_words_raw', 'avg_word_host',\n",
       "       'avg_word_path', 'phish_hints', 'domain_in_brand',\n",
       "       'brand_in_subdomain', 'brand_in_path', 'suspecious_tld',\n",
       "       'statistical_report', 'nb_hyperlinks', 'ratio_intHyperlinks',\n",
       "       'ratio_extHyperlinks', 'ratio_nullHyperlinks', 'nb_extCSS',\n",
       "       'ratio_intRedirection', 'ratio_extRedirection', 'ratio_intErrors',\n",
       "       'ratio_extErrors', 'login_form', 'external_favicon',\n",
       "       'links_in_tags', 'submit_email', 'ratio_intMedia',\n",
       "       'ratio_extMedia', 'sfh', 'iframe', 'popup_window', 'safe_anchor',\n",
       "       'onmouseover', 'right_clic', 'empty_title', 'domain_in_title',\n",
       "       'domain_with_copyright', 'whois_registered_domain',\n",
       "       'domain_registration_length', 'domain_age', 'web_traffic',\n",
       "       'dns_record', 'google_index', 'page_rank', 'status'], dtype=object)"
      ]
     },
     "execution_count": 94,
     "metadata": {},
     "output_type": "execute_result"
    }
   ],
   "source": [
    "df.columns.values"
   ]
  },
  {
   "cell_type": "markdown",
   "id": "b6800ac5-f93d-4296-93e4-b40e2c837296",
   "metadata": {},
   "source": [
    "#### Show the count of observations in the status columns"
   ]
  },
  {
   "cell_type": "code",
   "execution_count": 95,
   "id": "cfb01693-548c-4d4a-bd16-cf41c355c68c",
   "metadata": {},
   "outputs": [
    {
     "data": {
      "text/plain": [
       "legitimate    5715\n",
       "phishing      5715\n",
       "Name: status, dtype: int64"
      ]
     },
     "execution_count": 95,
     "metadata": {},
     "output_type": "execute_result"
    }
   ],
   "source": [
    "df['status'].value_counts()"
   ]
  },
  {
   "cell_type": "markdown",
   "id": "0d805049-98fa-4cca-bc76-0f1b15d05ddd",
   "metadata": {},
   "source": [
    "Se puede observar que el dataset esta balanceado ya que hay la misma cantidad de urls catalogadas como pshing como legitimate"
   ]
  },
  {
   "cell_type": "markdown",
   "id": "6abb232c-6a71-44e8-9233-2b9bd58db572",
   "metadata": {},
   "source": [
    "Derivación de características\n",
    "En base al artículo “Towards Benchmark Datasets for ML Based Wensite Phishing Detection: An\n",
    "Experimental Study”, derivar las características basadas en el dominio: f1, f2, f4 – f20, f25, f26 y f27.\n",
    "Para ello escriba las funciones necesarias y genere las nuevas columnas del dataset. Muestre un nuevo\n",
    "ejemplo de cinco observaciones donde se visualicen algunas de las columnas nuevas"
   ]
  },
  {
   "cell_type": "markdown",
   "id": "b7a5f7b7",
   "metadata": {},
   "source": [
    "#### En base al artículo “Towards Benchmark Datasets for ML Based Wensite Phishing Detection: An Experimental Study” se derivan:\n",
    "\n",
    "1. f1 = Full URL length\n",
    "2. f2 = Hostname length\n",
    "3. f4 -> f20 = Number of occurrences of the following characters: ’.’ (f4), ’-’ (f5), ’@’ (f6) , ’?’ (f7), ’&’ (f8), ’|’ (f9), ’=’ (f10), ’_’ (f11), ’ ̃’ (f12), ’%’ (f13), ’/’ (f14), ’*’ (f15), ’:’ (f16), ’,’ (f17), ’;’ (f18), '$'(f19), ’%20’ or space (f20)\n",
    "4. f25 = HTTPS token\n",
    "5. f26 = Ratio of digits in full URLs\n",
    "6. f27 = Ratio of digits in hostnames"
   ]
  },
  {
   "cell_type": "markdown",
   "id": "d9b70862",
   "metadata": {},
   "source": [
    "#### F1 y F2\n",
    "\n",
    "Las URL largas se utilizan para ocultar dominios y subdominios reales. Consideramos: lleno\n",
    "Longitud de URL (f1) y longitud de nombre de host (f2)."
   ]
  },
  {
   "cell_type": "code",
   "execution_count": 96,
   "id": "dde243b4",
   "metadata": {},
   "outputs": [],
   "source": [
    "# f1\n",
    "df['url_len'] = df['url'].apply(len)"
   ]
  },
  {
   "cell_type": "code",
   "execution_count": 97,
   "id": "2eb6ebcf",
   "metadata": {},
   "outputs": [],
   "source": [
    "# f2\n",
    "from urllib.parse import urlparse\n",
    "\n",
    "def url_info(url):\n",
    "    parsed_url = urlparse(url)\n",
    "    return parsed_url.hostname, parsed_url.scheme\n",
    "\n",
    "df['hostname'], df['scheme'] = zip(*df['url'].apply(url_info)) # scheme for f25\n",
    "df['hostname_len'] = df['hostname'].apply(len)"
   ]
  },
  {
   "cell_type": "markdown",
   "id": "66c44d20",
   "metadata": {},
   "source": [
    "#### f4 - f20\n",
    "\n",
    "Los caracteres especiales se utilizan para engañar a los usuarios novatos de dominios y subdominios reales.\n",
    "red eléctrica. Consideramos el número de ocurrencias de los siguientes caracteres: '.'\n",
    "(f4), '-' (f5), '@' (f6), '?' (f7), '&' (f8), '|' (f9), '=' (f10), '_' ( f11), ' ̃' (f12),\n",
    "'%' (f13), '/' (f14), '*' (f15), ':' (f16), ',' (f17), ';' (f18), '$' (f19), ' %20' o\n",
    "espacio (f20)."
   ]
  },
  {
   "cell_type": "code",
   "execution_count": 98,
   "id": "730155eb",
   "metadata": {},
   "outputs": [],
   "source": [
    "#f4 - f20\n",
    "chars = ['.','-','@','?','&','|','=','_',' ̃','%','/','*',':',',',';','$']\n",
    "spaces = ['%20', ' '] # two options for spaces\n",
    "\n",
    "def count_chars(chs):\n",
    "    return lambda s: sum(s.count(ch) for ch in chs)\n",
    "\n",
    "for ch in chars:\n",
    "    df[f'{ch}_count'] = df['url'].apply(count_chars(ch))\n",
    "\n",
    "df['space_count'] = df['url'].apply(count_chars(spaces))"
   ]
  },
  {
   "cell_type": "markdown",
   "id": "aa9aa656",
   "metadata": {},
   "source": [
    "#### f25\n",
    "\n",
    "La mayoría de los sitios web de phishing no brindan ningún servicio de seguridad en comparación con\n",
    "los legítimos. Por lo tanto, el uso de HTTPS es un indicador de legitimidad."
   ]
  },
  {
   "cell_type": "code",
   "execution_count": 99,
   "id": "0db14f67",
   "metadata": {},
   "outputs": [],
   "source": [
    "# f25\n",
    "df['is_https'] = df['scheme'].apply(lambda scheme: int(scheme.lower() == 'https'))"
   ]
  },
  {
   "cell_type": "markdown",
   "id": "3a1948ba",
   "metadata": {},
   "source": [
    "#### f26 -f27\n",
    "\n",
    "Un alto número de dígitos en las URL se considera un indicador de phishing. Nosotros\n",
    "considere la proporción de dígitos en las URL completas (f26) y los nombres de host (f27)."
   ]
  },
  {
   "cell_type": "code",
   "execution_count": 100,
   "id": "b42a09fc",
   "metadata": {},
   "outputs": [],
   "source": [
    "#f26\n",
    "digits_ratio = lambda s: sum(c.isdigit() for c in s) / sum(not c.isdigit() for c in s)\n",
    "df['digit_ratio_url'] = df['url'].apply(digits_ratio)\n"
   ]
  },
  {
   "cell_type": "code",
   "execution_count": 101,
   "id": "9600cc97",
   "metadata": {},
   "outputs": [],
   "source": [
    "# f27\n",
    "df['digit_ratio_hostname'] = df['url'].apply(digits_ratio)"
   ]
  },
  {
   "cell_type": "code",
   "execution_count": 102,
   "id": "6254fa62",
   "metadata": {},
   "outputs": [],
   "source": [
    "# Drop added columns no longer needed\n",
    "df = df.drop(['hostname', 'scheme'], axis=1)"
   ]
  },
  {
   "cell_type": "markdown",
   "id": "9df56404-b4db-4b47-b346-0543cf09c9c3",
   "metadata": {},
   "source": [
    "#### Show first 5 rows after transformations"
   ]
  },
  {
   "cell_type": "code",
   "execution_count": 103,
   "id": "e2bef74d-2f40-4b3b-865f-74456132fd31",
   "metadata": {},
   "outputs": [
    {
     "data": {
      "text/html": [
       "<div>\n",
       "<style scoped>\n",
       "    .dataframe tbody tr th:only-of-type {\n",
       "        vertical-align: middle;\n",
       "    }\n",
       "\n",
       "    .dataframe tbody tr th {\n",
       "        vertical-align: top;\n",
       "    }\n",
       "\n",
       "    .dataframe thead th {\n",
       "        text-align: right;\n",
       "    }\n",
       "</style>\n",
       "<table border=\"1\" class=\"dataframe\">\n",
       "  <thead>\n",
       "    <tr style=\"text-align: right;\">\n",
       "      <th></th>\n",
       "      <th>url</th>\n",
       "      <th>ip</th>\n",
       "      <th>nb_www</th>\n",
       "      <th>nb_com</th>\n",
       "      <th>nb_dslash</th>\n",
       "      <th>http_in_path</th>\n",
       "      <th>punycode</th>\n",
       "      <th>port</th>\n",
       "      <th>tld_in_path</th>\n",
       "      <th>tld_in_subdomain</th>\n",
       "      <th>...</th>\n",
       "      <th>/_count</th>\n",
       "      <th>*_count</th>\n",
       "      <th>:_count</th>\n",
       "      <th>,_count</th>\n",
       "      <th>;_count</th>\n",
       "      <th>$_count</th>\n",
       "      <th>space_count</th>\n",
       "      <th>is_https</th>\n",
       "      <th>digit_ratio_url</th>\n",
       "      <th>digit_ratio_hostname</th>\n",
       "    </tr>\n",
       "  </thead>\n",
       "  <tbody>\n",
       "    <tr>\n",
       "      <th>0</th>\n",
       "      <td>http://www.crestonwood.com/router.php</td>\n",
       "      <td>0</td>\n",
       "      <td>1</td>\n",
       "      <td>0</td>\n",
       "      <td>0</td>\n",
       "      <td>0</td>\n",
       "      <td>0</td>\n",
       "      <td>0</td>\n",
       "      <td>0</td>\n",
       "      <td>0</td>\n",
       "      <td>...</td>\n",
       "      <td>3</td>\n",
       "      <td>0</td>\n",
       "      <td>1</td>\n",
       "      <td>0</td>\n",
       "      <td>0</td>\n",
       "      <td>0</td>\n",
       "      <td>0</td>\n",
       "      <td>0</td>\n",
       "      <td>0.000000</td>\n",
       "      <td>0.000000</td>\n",
       "    </tr>\n",
       "    <tr>\n",
       "      <th>1</th>\n",
       "      <td>http://shadetreetechnology.com/V4/validation/a...</td>\n",
       "      <td>1</td>\n",
       "      <td>0</td>\n",
       "      <td>0</td>\n",
       "      <td>0</td>\n",
       "      <td>0</td>\n",
       "      <td>0</td>\n",
       "      <td>0</td>\n",
       "      <td>0</td>\n",
       "      <td>0</td>\n",
       "      <td>...</td>\n",
       "      <td>5</td>\n",
       "      <td>0</td>\n",
       "      <td>1</td>\n",
       "      <td>0</td>\n",
       "      <td>0</td>\n",
       "      <td>0</td>\n",
       "      <td>0</td>\n",
       "      <td>0</td>\n",
       "      <td>0.283333</td>\n",
       "      <td>0.283333</td>\n",
       "    </tr>\n",
       "    <tr>\n",
       "      <th>2</th>\n",
       "      <td>https://support-appleld.com.secureupdate.duila...</td>\n",
       "      <td>1</td>\n",
       "      <td>0</td>\n",
       "      <td>1</td>\n",
       "      <td>0</td>\n",
       "      <td>0</td>\n",
       "      <td>0</td>\n",
       "      <td>0</td>\n",
       "      <td>0</td>\n",
       "      <td>1</td>\n",
       "      <td>...</td>\n",
       "      <td>5</td>\n",
       "      <td>0</td>\n",
       "      <td>1</td>\n",
       "      <td>0</td>\n",
       "      <td>0</td>\n",
       "      <td>0</td>\n",
       "      <td>0</td>\n",
       "      <td>1</td>\n",
       "      <td>0.177570</td>\n",
       "      <td>0.177570</td>\n",
       "    </tr>\n",
       "    <tr>\n",
       "      <th>3</th>\n",
       "      <td>http://rgipt.ac.in</td>\n",
       "      <td>0</td>\n",
       "      <td>0</td>\n",
       "      <td>0</td>\n",
       "      <td>0</td>\n",
       "      <td>0</td>\n",
       "      <td>0</td>\n",
       "      <td>0</td>\n",
       "      <td>0</td>\n",
       "      <td>0</td>\n",
       "      <td>...</td>\n",
       "      <td>2</td>\n",
       "      <td>0</td>\n",
       "      <td>1</td>\n",
       "      <td>0</td>\n",
       "      <td>0</td>\n",
       "      <td>0</td>\n",
       "      <td>0</td>\n",
       "      <td>0</td>\n",
       "      <td>0.000000</td>\n",
       "      <td>0.000000</td>\n",
       "    </tr>\n",
       "    <tr>\n",
       "      <th>4</th>\n",
       "      <td>http://www.iracing.com/tracks/gateway-motorspo...</td>\n",
       "      <td>0</td>\n",
       "      <td>1</td>\n",
       "      <td>0</td>\n",
       "      <td>0</td>\n",
       "      <td>0</td>\n",
       "      <td>0</td>\n",
       "      <td>0</td>\n",
       "      <td>0</td>\n",
       "      <td>0</td>\n",
       "      <td>...</td>\n",
       "      <td>5</td>\n",
       "      <td>0</td>\n",
       "      <td>1</td>\n",
       "      <td>0</td>\n",
       "      <td>0</td>\n",
       "      <td>0</td>\n",
       "      <td>0</td>\n",
       "      <td>0</td>\n",
       "      <td>0.000000</td>\n",
       "      <td>0.000000</td>\n",
       "    </tr>\n",
       "  </tbody>\n",
       "</table>\n",
       "<p>5 rows × 89 columns</p>\n",
       "</div>"
      ],
      "text/plain": [
       "                                                 url  ip  nb_www  nb_com  \\\n",
       "0              http://www.crestonwood.com/router.php   0       1       0   \n",
       "1  http://shadetreetechnology.com/V4/validation/a...   1       0       0   \n",
       "2  https://support-appleld.com.secureupdate.duila...   1       0       1   \n",
       "3                                 http://rgipt.ac.in   0       0       0   \n",
       "4  http://www.iracing.com/tracks/gateway-motorspo...   0       1       0   \n",
       "\n",
       "   nb_dslash  http_in_path  punycode  port  tld_in_path  tld_in_subdomain  \\\n",
       "0          0             0         0     0            0                 0   \n",
       "1          0             0         0     0            0                 0   \n",
       "2          0             0         0     0            0                 1   \n",
       "3          0             0         0     0            0                 0   \n",
       "4          0             0         0     0            0                 0   \n",
       "\n",
       "   ...  /_count  *_count  :_count  ,_count  ;_count  $_count  space_count  \\\n",
       "0  ...        3        0        1        0        0        0            0   \n",
       "1  ...        5        0        1        0        0        0            0   \n",
       "2  ...        5        0        1        0        0        0            0   \n",
       "3  ...        2        0        1        0        0        0            0   \n",
       "4  ...        5        0        1        0        0        0            0   \n",
       "\n",
       "   is_https  digit_ratio_url  digit_ratio_hostname  \n",
       "0         0         0.000000              0.000000  \n",
       "1         0         0.283333              0.283333  \n",
       "2         1         0.177570              0.177570  \n",
       "3         0         0.000000              0.000000  \n",
       "4         0         0.000000              0.000000  \n",
       "\n",
       "[5 rows x 89 columns]"
      ]
     },
     "execution_count": 103,
     "metadata": {},
     "output_type": "execute_result"
    }
   ],
   "source": [
    "df.head()"
   ]
  },
  {
   "cell_type": "markdown",
   "id": "093b1188-b5a6-4d9c-8db0-889603955ffd",
   "metadata": {},
   "source": [
    "#### Preprocessing the dataset"
   ]
  },
  {
   "cell_type": "code",
   "execution_count": 104,
   "id": "602b1252",
   "metadata": {},
   "outputs": [
    {
     "name": "stdout",
     "output_type": "stream",
     "text": [
      "<class 'pandas.core.frame.DataFrame'>\n",
      "RangeIndex: 11430 entries, 0 to 11429\n",
      "Data columns (total 89 columns):\n",
      " #   Column                      Non-Null Count  Dtype  \n",
      "---  ------                      --------------  -----  \n",
      " 0   url                         11430 non-null  object \n",
      " 1   ip                          11430 non-null  int64  \n",
      " 2   nb_www                      11430 non-null  int64  \n",
      " 3   nb_com                      11430 non-null  int64  \n",
      " 4   nb_dslash                   11430 non-null  int64  \n",
      " 5   http_in_path                11430 non-null  int64  \n",
      " 6   punycode                    11430 non-null  int64  \n",
      " 7   port                        11430 non-null  int64  \n",
      " 8   tld_in_path                 11430 non-null  int64  \n",
      " 9   tld_in_subdomain            11430 non-null  int64  \n",
      " 10  abnormal_subdomain          11430 non-null  int64  \n",
      " 11  nb_subdomains               11430 non-null  int64  \n",
      " 12  prefix_suffix               11430 non-null  int64  \n",
      " 13  random_domain               11430 non-null  int64  \n",
      " 14  shortening_service          11430 non-null  int64  \n",
      " 15  path_extension              11430 non-null  int64  \n",
      " 16  nb_redirection              11430 non-null  int64  \n",
      " 17  nb_external_redirection     11430 non-null  int64  \n",
      " 18  length_words_raw            11430 non-null  int64  \n",
      " 19  char_repeat                 11430 non-null  int64  \n",
      " 20  shortest_words_raw          11430 non-null  int64  \n",
      " 21  shortest_word_host          11430 non-null  int64  \n",
      " 22  shortest_word_path          11430 non-null  int64  \n",
      " 23  longest_words_raw           11430 non-null  int64  \n",
      " 24  longest_word_host           11430 non-null  int64  \n",
      " 25  longest_word_path           11430 non-null  int64  \n",
      " 26  avg_words_raw               11430 non-null  float64\n",
      " 27  avg_word_host               11430 non-null  float64\n",
      " 28  avg_word_path               11430 non-null  float64\n",
      " 29  phish_hints                 11430 non-null  int64  \n",
      " 30  domain_in_brand             11430 non-null  int64  \n",
      " 31  brand_in_subdomain          11430 non-null  int64  \n",
      " 32  brand_in_path               11430 non-null  int64  \n",
      " 33  suspecious_tld              11430 non-null  int64  \n",
      " 34  statistical_report          11430 non-null  int64  \n",
      " 35  nb_hyperlinks               11430 non-null  int64  \n",
      " 36  ratio_intHyperlinks         11430 non-null  float64\n",
      " 37  ratio_extHyperlinks         11430 non-null  float64\n",
      " 38  ratio_nullHyperlinks        11430 non-null  int64  \n",
      " 39  nb_extCSS                   11430 non-null  int64  \n",
      " 40  ratio_intRedirection        11430 non-null  int64  \n",
      " 41  ratio_extRedirection        11430 non-null  float64\n",
      " 42  ratio_intErrors             11430 non-null  int64  \n",
      " 43  ratio_extErrors             11430 non-null  float64\n",
      " 44  login_form                  11430 non-null  int64  \n",
      " 45  external_favicon            11430 non-null  int64  \n",
      " 46  links_in_tags               11430 non-null  float64\n",
      " 47  submit_email                11430 non-null  int64  \n",
      " 48  ratio_intMedia              11430 non-null  float64\n",
      " 49  ratio_extMedia              11430 non-null  float64\n",
      " 50  sfh                         11430 non-null  int64  \n",
      " 51  iframe                      11430 non-null  int64  \n",
      " 52  popup_window                11430 non-null  int64  \n",
      " 53  safe_anchor                 11430 non-null  float64\n",
      " 54  onmouseover                 11430 non-null  int64  \n",
      " 55  right_clic                  11430 non-null  int64  \n",
      " 56  empty_title                 11430 non-null  int64  \n",
      " 57  domain_in_title             11430 non-null  int64  \n",
      " 58  domain_with_copyright       11430 non-null  int64  \n",
      " 59  whois_registered_domain     11430 non-null  int64  \n",
      " 60  domain_registration_length  11430 non-null  int64  \n",
      " 61  domain_age                  11430 non-null  int64  \n",
      " 62  web_traffic                 11430 non-null  int64  \n",
      " 63  dns_record                  11430 non-null  int64  \n",
      " 64  google_index                11430 non-null  int64  \n",
      " 65  page_rank                   11430 non-null  int64  \n",
      " 66  status                      11430 non-null  object \n",
      " 67  url_len                     11430 non-null  int64  \n",
      " 68  hostname_len                11430 non-null  int64  \n",
      " 69  ._count                     11430 non-null  int64  \n",
      " 70  -_count                     11430 non-null  int64  \n",
      " 71  @_count                     11430 non-null  int64  \n",
      " 72  ?_count                     11430 non-null  int64  \n",
      " 73  &_count                     11430 non-null  int64  \n",
      " 74  |_count                     11430 non-null  int64  \n",
      " 75  =_count                     11430 non-null  int64  \n",
      " 76  __count                     11430 non-null  int64  \n",
      " 77   ̃_count                    11430 non-null  int64  \n",
      " 78  %_count                     11430 non-null  int64  \n",
      " 79  /_count                     11430 non-null  int64  \n",
      " 80  *_count                     11430 non-null  int64  \n",
      " 81  :_count                     11430 non-null  int64  \n",
      " 82  ,_count                     11430 non-null  int64  \n",
      " 83  ;_count                     11430 non-null  int64  \n",
      " 84  $_count                     11430 non-null  int64  \n",
      " 85  space_count                 11430 non-null  int64  \n",
      " 86  is_https                    11430 non-null  int64  \n",
      " 87  digit_ratio_url             11430 non-null  float64\n",
      " 88  digit_ratio_hostname        11430 non-null  float64\n",
      "dtypes: float64(13), int64(74), object(2)\n",
      "memory usage: 7.8+ MB\n"
     ]
    }
   ],
   "source": [
    "df.info()"
   ]
  },
  {
   "cell_type": "code",
   "execution_count": 105,
   "id": "e8b3b00c-00c0-4311-b384-6a849b6cee02",
   "metadata": {},
   "outputs": [],
   "source": [
    "# converting the status column to binariy\n",
    "df['status'] = np.where(df['status'] == 'phishing', 1, 0)"
   ]
  },
  {
   "cell_type": "code",
   "execution_count": 106,
   "id": "5f7699c9-7b96-4c58-b7fd-029cce784eed",
   "metadata": {},
   "outputs": [],
   "source": [
    "df = df.drop(['url'], axis=1)"
   ]
  },
  {
   "cell_type": "code",
   "execution_count": 107,
   "id": "b49191b6",
   "metadata": {},
   "outputs": [
    {
     "data": {
      "text/html": [
       "<div>\n",
       "<style scoped>\n",
       "    .dataframe tbody tr th:only-of-type {\n",
       "        vertical-align: middle;\n",
       "    }\n",
       "\n",
       "    .dataframe tbody tr th {\n",
       "        vertical-align: top;\n",
       "    }\n",
       "\n",
       "    .dataframe thead th {\n",
       "        text-align: right;\n",
       "    }\n",
       "</style>\n",
       "<table border=\"1\" class=\"dataframe\">\n",
       "  <thead>\n",
       "    <tr style=\"text-align: right;\">\n",
       "      <th></th>\n",
       "      <th>ip</th>\n",
       "      <th>nb_www</th>\n",
       "      <th>nb_com</th>\n",
       "      <th>nb_dslash</th>\n",
       "      <th>http_in_path</th>\n",
       "      <th>punycode</th>\n",
       "      <th>port</th>\n",
       "      <th>tld_in_path</th>\n",
       "      <th>tld_in_subdomain</th>\n",
       "      <th>abnormal_subdomain</th>\n",
       "      <th>...</th>\n",
       "      <th>/_count</th>\n",
       "      <th>*_count</th>\n",
       "      <th>:_count</th>\n",
       "      <th>,_count</th>\n",
       "      <th>;_count</th>\n",
       "      <th>$_count</th>\n",
       "      <th>space_count</th>\n",
       "      <th>is_https</th>\n",
       "      <th>digit_ratio_url</th>\n",
       "      <th>digit_ratio_hostname</th>\n",
       "    </tr>\n",
       "  </thead>\n",
       "  <tbody>\n",
       "    <tr>\n",
       "      <th>0</th>\n",
       "      <td>0</td>\n",
       "      <td>1</td>\n",
       "      <td>0</td>\n",
       "      <td>0</td>\n",
       "      <td>0</td>\n",
       "      <td>0</td>\n",
       "      <td>0</td>\n",
       "      <td>0</td>\n",
       "      <td>0</td>\n",
       "      <td>0</td>\n",
       "      <td>...</td>\n",
       "      <td>3</td>\n",
       "      <td>0</td>\n",
       "      <td>1</td>\n",
       "      <td>0</td>\n",
       "      <td>0</td>\n",
       "      <td>0</td>\n",
       "      <td>0</td>\n",
       "      <td>0</td>\n",
       "      <td>0.000000</td>\n",
       "      <td>0.000000</td>\n",
       "    </tr>\n",
       "    <tr>\n",
       "      <th>1</th>\n",
       "      <td>1</td>\n",
       "      <td>0</td>\n",
       "      <td>0</td>\n",
       "      <td>0</td>\n",
       "      <td>0</td>\n",
       "      <td>0</td>\n",
       "      <td>0</td>\n",
       "      <td>0</td>\n",
       "      <td>0</td>\n",
       "      <td>0</td>\n",
       "      <td>...</td>\n",
       "      <td>5</td>\n",
       "      <td>0</td>\n",
       "      <td>1</td>\n",
       "      <td>0</td>\n",
       "      <td>0</td>\n",
       "      <td>0</td>\n",
       "      <td>0</td>\n",
       "      <td>0</td>\n",
       "      <td>0.283333</td>\n",
       "      <td>0.283333</td>\n",
       "    </tr>\n",
       "    <tr>\n",
       "      <th>2</th>\n",
       "      <td>1</td>\n",
       "      <td>0</td>\n",
       "      <td>1</td>\n",
       "      <td>0</td>\n",
       "      <td>0</td>\n",
       "      <td>0</td>\n",
       "      <td>0</td>\n",
       "      <td>0</td>\n",
       "      <td>1</td>\n",
       "      <td>0</td>\n",
       "      <td>...</td>\n",
       "      <td>5</td>\n",
       "      <td>0</td>\n",
       "      <td>1</td>\n",
       "      <td>0</td>\n",
       "      <td>0</td>\n",
       "      <td>0</td>\n",
       "      <td>0</td>\n",
       "      <td>1</td>\n",
       "      <td>0.177570</td>\n",
       "      <td>0.177570</td>\n",
       "    </tr>\n",
       "    <tr>\n",
       "      <th>3</th>\n",
       "      <td>0</td>\n",
       "      <td>0</td>\n",
       "      <td>0</td>\n",
       "      <td>0</td>\n",
       "      <td>0</td>\n",
       "      <td>0</td>\n",
       "      <td>0</td>\n",
       "      <td>0</td>\n",
       "      <td>0</td>\n",
       "      <td>0</td>\n",
       "      <td>...</td>\n",
       "      <td>2</td>\n",
       "      <td>0</td>\n",
       "      <td>1</td>\n",
       "      <td>0</td>\n",
       "      <td>0</td>\n",
       "      <td>0</td>\n",
       "      <td>0</td>\n",
       "      <td>0</td>\n",
       "      <td>0.000000</td>\n",
       "      <td>0.000000</td>\n",
       "    </tr>\n",
       "    <tr>\n",
       "      <th>4</th>\n",
       "      <td>0</td>\n",
       "      <td>1</td>\n",
       "      <td>0</td>\n",
       "      <td>0</td>\n",
       "      <td>0</td>\n",
       "      <td>0</td>\n",
       "      <td>0</td>\n",
       "      <td>0</td>\n",
       "      <td>0</td>\n",
       "      <td>0</td>\n",
       "      <td>...</td>\n",
       "      <td>5</td>\n",
       "      <td>0</td>\n",
       "      <td>1</td>\n",
       "      <td>0</td>\n",
       "      <td>0</td>\n",
       "      <td>0</td>\n",
       "      <td>0</td>\n",
       "      <td>0</td>\n",
       "      <td>0.000000</td>\n",
       "      <td>0.000000</td>\n",
       "    </tr>\n",
       "  </tbody>\n",
       "</table>\n",
       "<p>5 rows × 88 columns</p>\n",
       "</div>"
      ],
      "text/plain": [
       "   ip  nb_www  nb_com  nb_dslash  http_in_path  punycode  port  tld_in_path  \\\n",
       "0   0       1       0          0             0         0     0            0   \n",
       "1   1       0       0          0             0         0     0            0   \n",
       "2   1       0       1          0             0         0     0            0   \n",
       "3   0       0       0          0             0         0     0            0   \n",
       "4   0       1       0          0             0         0     0            0   \n",
       "\n",
       "   tld_in_subdomain  abnormal_subdomain  ...  /_count  *_count  :_count  \\\n",
       "0                 0                   0  ...        3        0        1   \n",
       "1                 0                   0  ...        5        0        1   \n",
       "2                 1                   0  ...        5        0        1   \n",
       "3                 0                   0  ...        2        0        1   \n",
       "4                 0                   0  ...        5        0        1   \n",
       "\n",
       "   ,_count  ;_count  $_count  space_count  is_https  digit_ratio_url  \\\n",
       "0        0        0        0            0         0         0.000000   \n",
       "1        0        0        0            0         0         0.283333   \n",
       "2        0        0        0            0         1         0.177570   \n",
       "3        0        0        0            0         0         0.000000   \n",
       "4        0        0        0            0         0         0.000000   \n",
       "\n",
       "   digit_ratio_hostname  \n",
       "0              0.000000  \n",
       "1              0.283333  \n",
       "2              0.177570  \n",
       "3              0.000000  \n",
       "4              0.000000  \n",
       "\n",
       "[5 rows x 88 columns]"
      ]
     },
     "execution_count": 107,
     "metadata": {},
     "output_type": "execute_result"
    }
   ],
   "source": [
    "df.head(5)"
   ]
  },
  {
   "cell_type": "markdown",
   "id": "c588ad96-74a4-4451-8f34-3c45884e862b",
   "metadata": {},
   "source": [
    "#### Pandas Profiling"
   ]
  },
  {
   "cell_type": "code",
   "execution_count": 12,
   "id": "b150884a-e4ad-46c2-97d4-80d045254dce",
   "metadata": {},
   "outputs": [
    {
     "data": {
      "application/vnd.jupyter.widget-view+json": {
       "model_id": "d566747ef36340ffa95cd79570fc9071",
       "version_major": 2,
       "version_minor": 0
      },
      "text/plain": [
       "Summarize dataset:   0%|          | 0/5 [00:00<?, ?it/s]"
      ]
     },
     "metadata": {},
     "output_type": "display_data"
    },
    {
     "name": "stderr",
     "output_type": "stream",
     "text": [
      "C:\\Users\\melma\\AppData\\Roaming\\Python\\Python39\\site-packages\\missingno\\missingno.py:254: UserWarning: FixedFormatter should only be used together with FixedLocator\n",
      "  ax1.set_xticklabels(\n",
      "C:\\Users\\melma\\AppData\\Roaming\\Python\\Python39\\site-packages\\pandas_profiling\\model\\missing.py:89: UserWarning: There was an attempt to generate the Count missing values diagrams, but this failed.\n",
      "To hide this warning, disable the calculation\n",
      "(using `df.profile_report(missing_diagrams={\"Count\": False}`)\n",
      "If this is problematic for your use case, please report this as an issue:\n",
      "https://github.com/pandas-profiling/pandas-profiling/issues\n",
      "(include the error message: 'The number of FixedLocator locations (7), usually from a call to set_ticks, does not match the number of ticklabels (66).')\n",
      "  warnings.warn(\n"
     ]
    },
    {
     "data": {
      "application/vnd.jupyter.widget-view+json": {
       "model_id": "38d4fb71998b41ecb527aa17d6e6ae3a",
       "version_major": 2,
       "version_minor": 0
      },
      "text/plain": [
       "Generate report structure:   0%|          | 0/1 [00:00<?, ?it/s]"
      ]
     },
     "metadata": {},
     "output_type": "display_data"
    },
    {
     "data": {
      "application/vnd.jupyter.widget-view+json": {
       "model_id": "b37e0a62a7da457180afeedba66bec8d",
       "version_major": 2,
       "version_minor": 0
      },
      "text/plain": [
       "Render HTML:   0%|          | 0/1 [00:00<?, ?it/s]"
      ]
     },
     "metadata": {},
     "output_type": "display_data"
    },
    {
     "data": {
      "application/vnd.jupyter.widget-view+json": {
       "model_id": "a9cdf18cb4964388b5b75d62777e663e",
       "version_major": 2,
       "version_minor": 0
      },
      "text/plain": [
       "Export report to file:   0%|          | 0/1 [00:00<?, ?it/s]"
      ]
     },
     "metadata": {},
     "output_type": "display_data"
    },
    {
     "data": {
      "image/png": "[encoded data removed]",
      "text/plain": [
       "<Figure size 720x360 with 3 Axes>"
      ]
     },
     "metadata": {},
     "output_type": "display_data"
    }
   ],
   "source": [
    "profile = df.profile_report(title=\"Phishing dataset Report\")\n",
    "profile.to_file(output_file=\"lab1_pandas_report.html\")"
   ]
  },
  {
   "cell_type": "markdown",
   "id": "b0293c7f-25ba-44f2-9947-1b78fed2376d",
   "metadata": {},
   "source": [
    "#### Based on the report, drop the next columns"
   ]
  },
  {
   "cell_type": "code",
   "execution_count": 56,
   "id": "4246efd3",
   "metadata": {},
   "outputs": [
    {
     "name": "stdout",
     "output_type": "stream",
     "text": [
      "<class 'pandas.core.frame.DataFrame'>\n",
      "RangeIndex: 11430 entries, 0 to 11429\n",
      "Data columns (total 90 columns):\n",
      " #   Column                      Non-Null Count  Dtype  \n",
      "---  ------                      --------------  -----  \n",
      " 0   ip                          11430 non-null  int64  \n",
      " 1   nb_www                      11430 non-null  int64  \n",
      " 2   nb_com                      11430 non-null  int64  \n",
      " 3   nb_dslash                   11430 non-null  int64  \n",
      " 4   http_in_path                11430 non-null  int64  \n",
      " 5   punycode                    11430 non-null  int64  \n",
      " 6   port                        11430 non-null  int64  \n",
      " 7   tld_in_path                 11430 non-null  int64  \n",
      " 8   tld_in_subdomain            11430 non-null  int64  \n",
      " 9   abnormal_subdomain          11430 non-null  int64  \n",
      " 10  nb_subdomains               11430 non-null  int64  \n",
      " 11  prefix_suffix               11430 non-null  int64  \n",
      " 12  random_domain               11430 non-null  int64  \n",
      " 13  shortening_service          11430 non-null  int64  \n",
      " 14  path_extension              11430 non-null  int64  \n",
      " 15  nb_redirection              11430 non-null  int64  \n",
      " 16  nb_external_redirection     11430 non-null  int64  \n",
      " 17  length_words_raw            11430 non-null  int64  \n",
      " 18  char_repeat                 11430 non-null  int64  \n",
      " 19  shortest_words_raw          11430 non-null  int64  \n",
      " 20  shortest_word_host          11430 non-null  int64  \n",
      " 21  shortest_word_path          11430 non-null  int64  \n",
      " 22  longest_words_raw           11430 non-null  int64  \n",
      " 23  longest_word_host           11430 non-null  int64  \n",
      " 24  longest_word_path           11430 non-null  int64  \n",
      " 25  avg_words_raw               11430 non-null  float64\n",
      " 26  avg_word_host               11430 non-null  float64\n",
      " 27  avg_word_path               11430 non-null  float64\n",
      " 28  phish_hints                 11430 non-null  int64  \n",
      " 29  domain_in_brand             11430 non-null  int64  \n",
      " 30  brand_in_subdomain          11430 non-null  int64  \n",
      " 31  brand_in_path               11430 non-null  int64  \n",
      " 32  suspecious_tld              11430 non-null  int64  \n",
      " 33  statistical_report          11430 non-null  int64  \n",
      " 34  nb_hyperlinks               11430 non-null  int64  \n",
      " 35  ratio_intHyperlinks         11430 non-null  float64\n",
      " 36  ratio_extHyperlinks         11430 non-null  float64\n",
      " 37  ratio_nullHyperlinks        11430 non-null  int64  \n",
      " 38  nb_extCSS                   11430 non-null  int64  \n",
      " 39  ratio_intRedirection        11430 non-null  int64  \n",
      " 40  ratio_extRedirection        11430 non-null  float64\n",
      " 41  ratio_intErrors             11430 non-null  int64  \n",
      " 42  ratio_extErrors             11430 non-null  float64\n",
      " 43  login_form                  11430 non-null  int64  \n",
      " 44  external_favicon            11430 non-null  int64  \n",
      " 45  links_in_tags               11430 non-null  float64\n",
      " 46  submit_email                11430 non-null  int64  \n",
      " 47  ratio_intMedia              11430 non-null  float64\n",
      " 48  ratio_extMedia              11430 non-null  float64\n",
      " 49  sfh                         11430 non-null  int64  \n",
      " 50  iframe                      11430 non-null  int64  \n",
      " 51  popup_window                11430 non-null  int64  \n",
      " 52  safe_anchor                 11430 non-null  float64\n",
      " 53  onmouseover                 11430 non-null  int64  \n",
      " 54  right_clic                  11430 non-null  int64  \n",
      " 55  empty_title                 11430 non-null  int64  \n",
      " 56  domain_in_title             11430 non-null  int64  \n",
      " 57  domain_with_copyright       11430 non-null  int64  \n",
      " 58  whois_registered_domain     11430 non-null  int64  \n",
      " 59  domain_registration_length  11430 non-null  int64  \n",
      " 60  domain_age                  11430 non-null  int64  \n",
      " 61  web_traffic                 11430 non-null  int64  \n",
      " 62  dns_record                  11430 non-null  int64  \n",
      " 63  google_index                11430 non-null  int64  \n",
      " 64  page_rank                   11430 non-null  int64  \n",
      " 65  status                      11430 non-null  int32  \n",
      " 66  url_len                     11430 non-null  int64  \n",
      " 67  hostname_len                11430 non-null  int64  \n",
      " 68  ._count                     11430 non-null  int64  \n",
      " 69  -_count                     11430 non-null  int64  \n",
      " 70  @_count                     11430 non-null  int64  \n",
      " 71  ?_count                     11430 non-null  int64  \n",
      " 72  &_count                     11430 non-null  int64  \n",
      " 73  |_count                     11430 non-null  int64  \n",
      " 74  =_count                     11430 non-null  int64  \n",
      " 75  __count                     11430 non-null  int64  \n",
      " 76   ̃_count                    11430 non-null  int64  \n",
      " 77  %_count                     11430 non-null  int64  \n",
      " 78  /_count                     11430 non-null  int64  \n",
      " 79  *_count                     11430 non-null  int64  \n",
      " 80  :_count                     11430 non-null  int64  \n",
      " 81  ,_count                     11430 non-null  int64  \n",
      " 82  ;_count                     11430 non-null  int64  \n",
      " 83  $_count                     11430 non-null  int64  \n",
      " 84  space_count                 11430 non-null  int64  \n",
      " 85  is_https                    11430 non-null  int64  \n",
      " 86  url_digits_count            11430 non-null  int64  \n",
      " 87  digit_ratio_url             11430 non-null  float64\n",
      " 88  hostname_digits_count       11430 non-null  int64  \n",
      " 89  digit_ratio_hostname        11430 non-null  float64\n",
      "dtypes: float64(13), int32(1), int64(76)\n",
      "memory usage: 7.8 MB\n"
     ]
    }
   ],
   "source": [
    "df.info()"
   ]
  },
  {
   "cell_type": "markdown",
   "id": "5ff2b1c7",
   "metadata": {},
   "source": [
    "#### Seleccion de caracteristicas"
   ]
  },
  {
   "cell_type": "markdown",
   "id": "719a91da",
   "metadata": {},
   "source": [
    "Selección de Características\n",
    "En base al reporte generado, las características relevantes que se relacionan con [status] que pudimos identificar son:\n",
    "\n",
    "- status\n",
    "- nb_www\n",
    "- phish_hints\n",
    "- nb_hyperlinks\n",
    "- length_words_raw\n",
    "- domain_in_title\n",
    "- ratio_intHyperlinks\n",
    "- ratio_extHyperlinks\n",
    "- domain_age\n",
    "- web_traffic\n",
    "- page_rank\n",
    "- url_len\n",
    "- hostname_len\n",
    "- space_count\n",
    "- digit_ratio_url"
   ]
  },
  {
   "cell_type": "code",
   "execution_count": 108,
   "id": "5fb9959a",
   "metadata": {},
   "outputs": [],
   "source": [
    "# limpiar el dataset para dejar solo las caracteristicas necesarias para el modelo\n",
    "clean_df = df[['status','nb_www', 'phish_hints', 'nb_hyperlinks', 'length_words_raw', 'domain_in_title', 'ratio_intHyperlinks', 'ratio_extHyperlinks', 'domain_age', 'web_traffic', 'page_rank', 'url_len', 'hostname_len', 'space_count', 'digit_ratio_url']]\n"
   ]
  },
  {
   "cell_type": "code",
   "execution_count": 109,
   "id": "b923ef82",
   "metadata": {},
   "outputs": [
    {
     "data": {
      "text/html": [
       "<div>\n",
       "<style scoped>\n",
       "    .dataframe tbody tr th:only-of-type {\n",
       "        vertical-align: middle;\n",
       "    }\n",
       "\n",
       "    .dataframe tbody tr th {\n",
       "        vertical-align: top;\n",
       "    }\n",
       "\n",
       "    .dataframe thead th {\n",
       "        text-align: right;\n",
       "    }\n",
       "</style>\n",
       "<table border=\"1\" class=\"dataframe\">\n",
       "  <thead>\n",
       "    <tr style=\"text-align: right;\">\n",
       "      <th></th>\n",
       "      <th>status</th>\n",
       "      <th>nb_www</th>\n",
       "      <th>phish_hints</th>\n",
       "      <th>nb_hyperlinks</th>\n",
       "      <th>length_words_raw</th>\n",
       "      <th>domain_in_title</th>\n",
       "      <th>ratio_intHyperlinks</th>\n",
       "      <th>ratio_extHyperlinks</th>\n",
       "      <th>domain_age</th>\n",
       "      <th>web_traffic</th>\n",
       "      <th>page_rank</th>\n",
       "      <th>url_len</th>\n",
       "      <th>hostname_len</th>\n",
       "      <th>space_count</th>\n",
       "      <th>digit_ratio_url</th>\n",
       "    </tr>\n",
       "  </thead>\n",
       "  <tbody>\n",
       "    <tr>\n",
       "      <th>0</th>\n",
       "      <td>0</td>\n",
       "      <td>1</td>\n",
       "      <td>0</td>\n",
       "      <td>17</td>\n",
       "      <td>4</td>\n",
       "      <td>0</td>\n",
       "      <td>0.529412</td>\n",
       "      <td>0.470588</td>\n",
       "      <td>-1</td>\n",
       "      <td>0</td>\n",
       "      <td>4</td>\n",
       "      <td>37</td>\n",
       "      <td>19</td>\n",
       "      <td>0</td>\n",
       "      <td>0.000000</td>\n",
       "    </tr>\n",
       "    <tr>\n",
       "      <th>1</th>\n",
       "      <td>1</td>\n",
       "      <td>0</td>\n",
       "      <td>0</td>\n",
       "      <td>30</td>\n",
       "      <td>4</td>\n",
       "      <td>1</td>\n",
       "      <td>0.966667</td>\n",
       "      <td>0.033333</td>\n",
       "      <td>5767</td>\n",
       "      <td>0</td>\n",
       "      <td>2</td>\n",
       "      <td>77</td>\n",
       "      <td>23</td>\n",
       "      <td>0</td>\n",
       "      <td>0.283333</td>\n",
       "    </tr>\n",
       "    <tr>\n",
       "      <th>2</th>\n",
       "      <td>1</td>\n",
       "      <td>0</td>\n",
       "      <td>0</td>\n",
       "      <td>4</td>\n",
       "      <td>12</td>\n",
       "      <td>1</td>\n",
       "      <td>1.000000</td>\n",
       "      <td>0.000000</td>\n",
       "      <td>4004</td>\n",
       "      <td>5828815</td>\n",
       "      <td>0</td>\n",
       "      <td>126</td>\n",
       "      <td>50</td>\n",
       "      <td>0</td>\n",
       "      <td>0.177570</td>\n",
       "    </tr>\n",
       "    <tr>\n",
       "      <th>3</th>\n",
       "      <td>0</td>\n",
       "      <td>0</td>\n",
       "      <td>0</td>\n",
       "      <td>149</td>\n",
       "      <td>1</td>\n",
       "      <td>1</td>\n",
       "      <td>0.973154</td>\n",
       "      <td>0.026846</td>\n",
       "      <td>-1</td>\n",
       "      <td>107721</td>\n",
       "      <td>3</td>\n",
       "      <td>18</td>\n",
       "      <td>11</td>\n",
       "      <td>0</td>\n",
       "      <td>0.000000</td>\n",
       "    </tr>\n",
       "    <tr>\n",
       "      <th>4</th>\n",
       "      <td>0</td>\n",
       "      <td>1</td>\n",
       "      <td>0</td>\n",
       "      <td>102</td>\n",
       "      <td>6</td>\n",
       "      <td>0</td>\n",
       "      <td>0.470588</td>\n",
       "      <td>0.529412</td>\n",
       "      <td>8175</td>\n",
       "      <td>8725</td>\n",
       "      <td>6</td>\n",
       "      <td>55</td>\n",
       "      <td>15</td>\n",
       "      <td>0</td>\n",
       "      <td>0.000000</td>\n",
       "    </tr>\n",
       "    <tr>\n",
       "      <th>...</th>\n",
       "      <td>...</td>\n",
       "      <td>...</td>\n",
       "      <td>...</td>\n",
       "      <td>...</td>\n",
       "      <td>...</td>\n",
       "      <td>...</td>\n",
       "      <td>...</td>\n",
       "      <td>...</td>\n",
       "      <td>...</td>\n",
       "      <td>...</td>\n",
       "      <td>...</td>\n",
       "      <td>...</td>\n",
       "      <td>...</td>\n",
       "      <td>...</td>\n",
       "      <td>...</td>\n",
       "    </tr>\n",
       "    <tr>\n",
       "      <th>11425</th>\n",
       "      <td>0</td>\n",
       "      <td>1</td>\n",
       "      <td>0</td>\n",
       "      <td>199</td>\n",
       "      <td>4</td>\n",
       "      <td>0</td>\n",
       "      <td>0.884422</td>\n",
       "      <td>0.115578</td>\n",
       "      <td>5396</td>\n",
       "      <td>3980</td>\n",
       "      <td>6</td>\n",
       "      <td>45</td>\n",
       "      <td>17</td>\n",
       "      <td>0</td>\n",
       "      <td>0.000000</td>\n",
       "    </tr>\n",
       "    <tr>\n",
       "      <th>11426</th>\n",
       "      <td>1</td>\n",
       "      <td>1</td>\n",
       "      <td>0</td>\n",
       "      <td>3</td>\n",
       "      <td>12</td>\n",
       "      <td>1</td>\n",
       "      <td>1.000000</td>\n",
       "      <td>0.000000</td>\n",
       "      <td>6728</td>\n",
       "      <td>0</td>\n",
       "      <td>0</td>\n",
       "      <td>84</td>\n",
       "      <td>18</td>\n",
       "      <td>1</td>\n",
       "      <td>0.024390</td>\n",
       "    </tr>\n",
       "    <tr>\n",
       "      <th>11427</th>\n",
       "      <td>0</td>\n",
       "      <td>1</td>\n",
       "      <td>0</td>\n",
       "      <td>68</td>\n",
       "      <td>13</td>\n",
       "      <td>0</td>\n",
       "      <td>0.470588</td>\n",
       "      <td>0.529412</td>\n",
       "      <td>8515</td>\n",
       "      <td>8</td>\n",
       "      <td>10</td>\n",
       "      <td>105</td>\n",
       "      <td>16</td>\n",
       "      <td>0</td>\n",
       "      <td>0.166667</td>\n",
       "    </tr>\n",
       "    <tr>\n",
       "      <th>11428</th>\n",
       "      <td>0</td>\n",
       "      <td>1</td>\n",
       "      <td>0</td>\n",
       "      <td>32</td>\n",
       "      <td>2</td>\n",
       "      <td>1</td>\n",
       "      <td>0.375000</td>\n",
       "      <td>0.625000</td>\n",
       "      <td>2836</td>\n",
       "      <td>2455493</td>\n",
       "      <td>4</td>\n",
       "      <td>38</td>\n",
       "      <td>30</td>\n",
       "      <td>0</td>\n",
       "      <td>0.000000</td>\n",
       "    </tr>\n",
       "    <tr>\n",
       "      <th>11429</th>\n",
       "      <td>1</td>\n",
       "      <td>1</td>\n",
       "      <td>3</td>\n",
       "      <td>21</td>\n",
       "      <td>90</td>\n",
       "      <td>1</td>\n",
       "      <td>0.428571</td>\n",
       "      <td>0.571429</td>\n",
       "      <td>-1</td>\n",
       "      <td>0</td>\n",
       "      <td>0</td>\n",
       "      <td>477</td>\n",
       "      <td>14</td>\n",
       "      <td>0</td>\n",
       "      <td>0.094037</td>\n",
       "    </tr>\n",
       "  </tbody>\n",
       "</table>\n",
       "<p>11027 rows × 15 columns</p>\n",
       "</div>"
      ],
      "text/plain": [
       "       status  nb_www  phish_hints  nb_hyperlinks  length_words_raw  \\\n",
       "0           0       1            0             17                 4   \n",
       "1           1       0            0             30                 4   \n",
       "2           1       0            0              4                12   \n",
       "3           0       0            0            149                 1   \n",
       "4           0       1            0            102                 6   \n",
       "...       ...     ...          ...            ...               ...   \n",
       "11425       0       1            0            199                 4   \n",
       "11426       1       1            0              3                12   \n",
       "11427       0       1            0             68                13   \n",
       "11428       0       1            0             32                 2   \n",
       "11429       1       1            3             21                90   \n",
       "\n",
       "       domain_in_title  ratio_intHyperlinks  ratio_extHyperlinks  domain_age  \\\n",
       "0                    0             0.529412             0.470588          -1   \n",
       "1                    1             0.966667             0.033333        5767   \n",
       "2                    1             1.000000             0.000000        4004   \n",
       "3                    1             0.973154             0.026846          -1   \n",
       "4                    0             0.470588             0.529412        8175   \n",
       "...                ...                  ...                  ...         ...   \n",
       "11425                0             0.884422             0.115578        5396   \n",
       "11426                1             1.000000             0.000000        6728   \n",
       "11427                0             0.470588             0.529412        8515   \n",
       "11428                1             0.375000             0.625000        2836   \n",
       "11429                1             0.428571             0.571429          -1   \n",
       "\n",
       "       web_traffic  page_rank  url_len  hostname_len  space_count  \\\n",
       "0                0          4       37            19            0   \n",
       "1                0          2       77            23            0   \n",
       "2          5828815          0      126            50            0   \n",
       "3           107721          3       18            11            0   \n",
       "4             8725          6       55            15            0   \n",
       "...            ...        ...      ...           ...          ...   \n",
       "11425         3980          6       45            17            0   \n",
       "11426            0          0       84            18            1   \n",
       "11427            8         10      105            16            0   \n",
       "11428      2455493          4       38            30            0   \n",
       "11429            0          0      477            14            0   \n",
       "\n",
       "       digit_ratio_url  \n",
       "0             0.000000  \n",
       "1             0.283333  \n",
       "2             0.177570  \n",
       "3             0.000000  \n",
       "4             0.000000  \n",
       "...                ...  \n",
       "11425         0.000000  \n",
       "11426         0.024390  \n",
       "11427         0.166667  \n",
       "11428         0.000000  \n",
       "11429         0.094037  \n",
       "\n",
       "[11027 rows x 15 columns]"
      ]
     },
     "execution_count": 109,
     "metadata": {},
     "output_type": "execute_result"
    }
   ],
   "source": [
    "# Verifique que no posee datos repetidos\n",
    "\n",
    "clean_df.drop_duplicates()"
   ]
  },
  {
   "cell_type": "markdown",
   "id": "d9862913",
   "metadata": {},
   "source": [
    "### Parte 2"
   ]
  },
  {
   "cell_type": "markdown",
   "id": "7ffaa6f2-de37-4622-ab64-e2b8d8938956",
   "metadata": {},
   "source": [
    "#### Create the train,test and validation \n",
    "* train size 55%\n",
    "* test size 30%\n",
    "* validation size 15%"
   ]
  },
  {
   "cell_type": "code",
   "execution_count": 110,
   "id": "ffbefccc-78c0-4c0f-8383-657a1ea3a7da",
   "metadata": {},
   "outputs": [],
   "source": [
    "train_size=0.55\n",
    "test_size = 0.66 # this is equavalent to the 30% of the test size"
   ]
  },
  {
   "cell_type": "code",
   "execution_count": 111,
   "id": "041f7cb5-1a5d-4a7c-ba08-2f16e88312dc",
   "metadata": {},
   "outputs": [],
   "source": [
    "X = df.drop(columns = ['status']).copy()\n",
    "y = df['status']"
   ]
  },
  {
   "cell_type": "code",
   "execution_count": 112,
   "id": "6f95a3d0-08dd-41f5-8b13-5a17c26c76c4",
   "metadata": {},
   "outputs": [],
   "source": [
    "# In the first step we will split the data in training and remaining dataset\n",
    "X_train, X_rem, y_train, y_rem = train_test_split(X,y, train_size=train_size,random_state=42)"
   ]
  },
  {
   "cell_type": "code",
   "execution_count": 113,
   "id": "82bbc9d8-c388-4019-9140-6d919cd934ab",
   "metadata": {},
   "outputs": [],
   "source": [
    "# Now since we want the valid and test size. \n",
    "# we have to define valid_size=0.5 (that is 50% of remaining data)\n",
    "X_valid, X_test, y_valid, y_test = train_test_split(X_rem,y_rem, test_size=test_size,random_state=42)"
   ]
  },
  {
   "cell_type": "markdown",
   "id": "6380080e-ff4e-4202-aca0-5b00d9b7324a",
   "metadata": {},
   "source": [
    "#### Saving the train, test and validation data sets"
   ]
  },
  {
   "cell_type": "code",
   "execution_count": 114,
   "id": "e17a15f2-eb1f-49bf-95d2-0f18dcda6542",
   "metadata": {},
   "outputs": [],
   "source": [
    "train_df = X_train.copy()\n",
    "train_df['status'] = y_train.tolist()\n",
    "train_df.reset_index(drop=True, inplace=True)\n",
    "train_df.to_csv('train_dataset.csv', index = False, encoding='utf-8')"
   ]
  },
  {
   "cell_type": "code",
   "execution_count": 115,
   "id": "e8ddd43d-92cb-45df-8921-e5af7f646057",
   "metadata": {},
   "outputs": [],
   "source": [
    "valid_df = X_valid.copy()\n",
    "valid_df['status'] = y_valid.tolist()\n",
    "valid_df.reset_index(drop=True, inplace=True)\n",
    "valid_df.to_csv('validation_dataset.csv', index = False, encoding='utf-8')"
   ]
  },
  {
   "cell_type": "code",
   "execution_count": 116,
   "id": "b1c03f59-f89d-47e8-85fa-171ca4df4e55",
   "metadata": {},
   "outputs": [],
   "source": [
    "test_df = X_test.copy()\n",
    "test_df['status'] = y_test.tolist()\n",
    "test_df.reset_index(drop=True, inplace=True)\n",
    "test_df.to_csv('test_dataset.csv', index = False, encoding='utf-8')"
   ]
  },
  {
   "cell_type": "markdown",
   "id": "cea261aa-74de-4104-b157-a6261626f7cd",
   "metadata": {},
   "source": [
    "#### Machine Learning Implamentation"
   ]
  },
  {
   "cell_type": "markdown",
   "id": "d4d775cc-3419-44de-b158-796c16b7c6af",
   "metadata": {},
   "source": [
    "Utilice dos algoritmos de Machine Learning para entrenar el modelo. Muestre y explique los valores obtenidos de las siguientes métricas para los datos de validación y pruebas, para cada modelo, en base al contexto del problema (detección de Pishing).\n",
    "* Matriz de confusión\n",
    "* Precision\n",
    "* Recall\n",
    "* F1 Score"
   ]
  },
  {
   "cell_type": "markdown",
   "id": "36a6a7a4",
   "metadata": {},
   "source": [
    "#### Creación del modelo"
   ]
  },
  {
   "cell_type": "code",
   "execution_count": 117,
   "id": "21eae3b7",
   "metadata": {},
   "outputs": [],
   "source": [
    "from sklearn.model_selection import train_test_split, cross_val_score, cross_validate\n",
    "from sklearn.ensemble import RandomForestClassifier\n",
    "from sklearn.metrics import confusion_matrix, precision_score, recall_score, f1_score, classification_report, accuracy_score"
   ]
  },
  {
   "cell_type": "code",
   "execution_count": 118,
   "id": "effada77",
   "metadata": {},
   "outputs": [],
   "source": [
    "rf = RandomForestClassifier(n_estimators = 1000, random_state = 42)"
   ]
  },
  {
   "cell_type": "code",
   "execution_count": 119,
   "id": "dc5b9f29",
   "metadata": {},
   "outputs": [
    {
     "data": {
      "text/plain": [
       "RandomForestClassifier(n_estimators=1000, random_state=42)"
      ]
     },
     "execution_count": 119,
     "metadata": {},
     "output_type": "execute_result"
    }
   ],
   "source": [
    "# Entrenamos el modelo\n",
    "rf.fit(X_train, y_train)"
   ]
  },
  {
   "cell_type": "markdown",
   "id": "12cf6014",
   "metadata": {},
   "source": [
    "Utilizamos el clasificador de bosque aleatorio.\n",
    "\n",
    "que es un bosque aleatorio, un metaestimador que ajusta una serie de clasificadores de árboles de decisión en varias submuestras del conjunto de datos y utiliza el promedio para mejorar la precisión predictiva y controlar el sobreajuste. \n",
    "\n",
    "Los valores predeterminados para los parámetros que controlan el tamaño de los árboles conducen a árboles completamente desarrollados y sin podar que pueden ser potencialmente muy grandes en algunos conjuntos de datos. Para reducir el consumo de memoria, la complejidad y el tamaño de los árboles deben controlarse configurando esos valores de parámetros."
   ]
  },
  {
   "cell_type": "markdown",
   "id": "2724c3f7",
   "metadata": {},
   "source": [
    "#### Validación"
   ]
  },
  {
   "cell_type": "code",
   "execution_count": 120,
   "id": "1efbe403",
   "metadata": {},
   "outputs": [
    {
     "name": "stdout",
     "output_type": "stream",
     "text": [
      "Matrix de confusión:  [[841  30]\n",
      " [ 27 850]]\n"
     ]
    }
   ],
   "source": [
    "# Realizamos predicciones con las metricas de validación\n",
    "predictions = rf.predict(X_valid)\n",
    "\n",
    "# Get the results y_valid\n",
    "validation_confusion_matrix = confusion_matrix(y_valid, predictions)\n",
    "validation_recall_score = recall_score(y_valid, predictions, average=None)\n",
    "validation_precision_score = precision_score(y_valid, predictions, average=None)\n",
    "validation_f1_score = f1_score(y_valid, predictions, average=None)\n",
    "print(\"Matrix de confusión: \", validation_confusion_matrix)\n"
   ]
  },
  {
   "cell_type": "code",
   "execution_count": 121,
   "id": "64cef97c",
   "metadata": {},
   "outputs": [
    {
     "name": "stdout",
     "output_type": "stream",
     "text": [
      "              precision    recall  f1-score   support\n",
      "\n",
      "       legit       0.97      0.97      0.97       871\n",
      "         dga       0.97      0.97      0.97       877\n",
      "\n",
      "    accuracy                           0.97      1748\n",
      "   macro avg       0.97      0.97      0.97      1748\n",
      "weighted avg       0.97      0.97      0.97      1748\n",
      "\n",
      "recall_score:  <function recall_score at 0x00000164A8B6F310>\n",
      "precision_score:  <function precision_score at 0x00000164A8B6F280>\n",
      "f1_score:  <function f1_score at 0x00000164A8B67EE0>\n",
      "accuracy:  0.967391304347826\n"
     ]
    }
   ],
   "source": [
    "print(classification_report(y_valid, predictions, target_names = [\"legit\", \"dga\"]))\n",
    "print(\"recall_score: \",recall_score)\n",
    "print(\"precision_score: \", precision_score)\n",
    "print(\"f1_score: \", f1_score)\n",
    "print(\"accuracy: \", accuracy_score(y_valid, predictions))"
   ]
  },
  {
   "cell_type": "markdown",
   "id": "b57e8002",
   "metadata": {},
   "source": [
    "En base a los resultados, podemos observar que en general todos nuestros valores van rondando al rededor de 0.96 con ello  procederemos a seguir con nuestro test set ya que los resultdis de esta primera validacion nos lo permite"
   ]
  },
  {
   "cell_type": "markdown",
   "id": "a6fbbaaf",
   "metadata": {},
   "source": [
    "#### Predicciones finales"
   ]
  },
  {
   "cell_type": "code",
   "execution_count": 122,
   "id": "fc7a6baf",
   "metadata": {},
   "outputs": [],
   "source": [
    "predictions = rf.predict(X_test)"
   ]
  },
  {
   "cell_type": "code",
   "execution_count": 123,
   "id": "ef8bf3b1",
   "metadata": {},
   "outputs": [
    {
     "data": {
      "text/plain": [
       "(3396,)"
      ]
     },
     "execution_count": 123,
     "metadata": {},
     "output_type": "execute_result"
    }
   ],
   "source": [
    "y_test.shape"
   ]
  },
  {
   "cell_type": "code",
   "execution_count": 124,
   "id": "10634b0d",
   "metadata": {},
   "outputs": [
    {
     "data": {
      "text/plain": [
       "(3396,)"
      ]
     },
     "execution_count": 124,
     "metadata": {},
     "output_type": "execute_result"
    }
   ],
   "source": [
    "predictions.shape"
   ]
  },
  {
   "cell_type": "code",
   "execution_count": 125,
   "id": "8fc12e18",
   "metadata": {},
   "outputs": [],
   "source": [
    "_confusion_matrix = confusion_matrix(y_test, predictions)\n",
    "_recall_score = recall_score(y_test, predictions, average=None)\n",
    "_precision_score = precision_score(y_test, predictions, average=None)\n",
    "_f1_score = f1_score(y_test, predictions, average=None)"
   ]
  },
  {
   "cell_type": "code",
   "execution_count": 126,
   "id": "9f72bb9f",
   "metadata": {},
   "outputs": [
    {
     "name": "stdout",
     "output_type": "stream",
     "text": [
      "Matrix de confusión\n"
     ]
    },
    {
     "data": {
      "text/plain": [
       "array([[1635,   61],\n",
       "       [  73, 1627]], dtype=int64)"
      ]
     },
     "execution_count": 126,
     "metadata": {},
     "output_type": "execute_result"
    }
   ],
   "source": [
    "print(\"Matrix de confusión\")\n",
    "_confusion_matrix"
   ]
  },
  {
   "cell_type": "code",
   "execution_count": 127,
   "id": "81941876",
   "metadata": {},
   "outputs": [
    {
     "data": {
      "text/plain": [
       "'              precision    recall  f1-score   support\\n\\n       legit       0.96      0.96      0.96      1696\\n         dga       0.96      0.96      0.96      1700\\n\\n    accuracy                           0.96      3396\\n   macro avg       0.96      0.96      0.96      3396\\nweighted avg       0.96      0.96      0.96      3396\\n'"
      ]
     },
     "execution_count": 127,
     "metadata": {},
     "output_type": "execute_result"
    }
   ],
   "source": [
    "classification_report(y_test, predictions, target_names = [\"legit\", \"dga\"])"
   ]
  },
  {
   "cell_type": "code",
   "execution_count": 128,
   "id": "1d41da90",
   "metadata": {},
   "outputs": [
    {
     "name": "stdout",
     "output_type": "stream",
     "text": [
      "recall_score\n"
     ]
    },
    {
     "data": {
      "text/plain": [
       "array([0.96403302, 0.95705882])"
      ]
     },
     "execution_count": 128,
     "metadata": {},
     "output_type": "execute_result"
    }
   ],
   "source": [
    "print(\"recall_score\")\n",
    "_recall_score"
   ]
  },
  {
   "cell_type": "code",
   "execution_count": 129,
   "id": "d53a0554",
   "metadata": {},
   "outputs": [
    {
     "name": "stdout",
     "output_type": "stream",
     "text": [
      "precision_score\n"
     ]
    },
    {
     "data": {
      "text/plain": [
       "array([0.95725995, 0.96386256])"
      ]
     },
     "execution_count": 129,
     "metadata": {},
     "output_type": "execute_result"
    }
   ],
   "source": [
    "print(\"precision_score\")\n",
    "_precision_score"
   ]
  },
  {
   "cell_type": "code",
   "execution_count": 130,
   "id": "e276a8b0",
   "metadata": {},
   "outputs": [
    {
     "name": "stdout",
     "output_type": "stream",
     "text": [
      "f1_score\n"
     ]
    },
    {
     "data": {
      "text/plain": [
       "array([0.96063455, 0.96044864])"
      ]
     },
     "execution_count": 130,
     "metadata": {},
     "output_type": "execute_result"
    }
   ],
   "source": [
    "print(\"f1_score\")\n",
    "_f1_score"
   ]
  },
  {
   "cell_type": "code",
   "execution_count": 131,
   "id": "860bb295",
   "metadata": {},
   "outputs": [
    {
     "name": "stdout",
     "output_type": "stream",
     "text": [
      "Accuracy\n"
     ]
    },
    {
     "data": {
      "text/plain": [
       "0.9605418138987044"
      ]
     },
     "execution_count": 131,
     "metadata": {},
     "output_type": "execute_result"
    }
   ],
   "source": [
    "print(\"Accuracy\")\n",
    "accuracy_score(y_test, predictions)"
   ]
  },
  {
   "cell_type": "markdown",
   "id": "f448fd4a-d181-495b-8468-63c350cb2d21",
   "metadata": {},
   "source": [
    "#### Discusion"
   ]
  },
  {
   "cell_type": "markdown",
   "id": "c227eb56-fc6c-4b76-b560-5d320c6e8fc2",
   "metadata": {},
   "source": [
    "#### 1. ¿Cuál es el impacto de clasificar un sitio legítimo como Pishing?\n",
    "- Seria un problema y realmente dependeria el caso sobre que tan grave puede ser, por ejemplo si es un sitio de una empresa de alto prestigio pues corre el riesgo a afectar la confianza de sus clientes, puede afectar en el trafico en el sitio, lo cual puede representar perdidas para la compañia.\n",
    "\n",
    "#### 2. ¿Cuál es el impacto de clasificar un sitio de Pishing como legítimo?\n",
    "- esto podria tener un impacto negativo debido a que que podria volnerar la seguridad de una organizacion, robos de informacion entre otros.\n",
    "\n",
    "#### 3. En base a las respuestas anteriores, ¿Qué métrica elegiría para comparar modelos similares de clasificación de pishing?\n",
    "- En base a nuestro analisis, consideramos  que el recall es la mejor métrica para este problema, debido a que nos indica la habilidad del modelo de encontrar los positivos.\n",
    "\n",
    "#### 4. ¿Qué modelo es mejor para la clasificación de Pishing? Justifique\n",
    "- En base a lo trabajado en este laboratorio podriamos indicar que el RandomForestClassifier es bastante efectipo \n",
    "\n",
    "#### 5. En base a las métricas obtenidas ¿es necesaria la intervención de una persona humana para tomar la decisión final?\n",
    "- Consideramos que no deberia ser necesaria debido a que ya existen metricas suficientes como para crear un modelo automatizado que permita detectar sitio de phising\n"
   ]
  }
 ],
 "metadata": {
  "kernelspec": {
   "display_name": "Python 3 (ipykernel)",
   "language": "python",
   "name": "python3"
  },
  "language_info": {
   "codemirror_mode": {
    "name": "ipython",
    "version": 3
   },
   "file_extension": ".py",
   "mimetype": "text/x-python",
   "name": "python",
   "nbconvert_exporter": "python",
   "pygments_lexer": "ipython3",
   "version": "3.9.13"
  }
 },
 "nbformat": 4,
 "nbformat_minor": 5
}
